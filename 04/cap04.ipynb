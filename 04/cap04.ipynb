{
 "cells": [
  {
   "cell_type": "markdown",
   "metadata": {
    "slideshow": {
     "slide_type": "slide"
    }
   },
   "source": [
    "# 4. Árboles"
   ]
  },
  {
   "cell_type": "markdown",
   "metadata": {
    "slideshow": {
     "slide_type": "slide"
    }
   },
   "source": [
    "## 4.1. Puentes"
   ]
  },
  {
   "cell_type": "markdown",
   "metadata": {
    "slideshow": {
     "slide_type": "subslide"
    }
   },
   "source": [
    "* Si $e$ es una arista de un grafo $G$, entonces $G-e$ es el subgrafo de $G$ que tiene el mismo conjunto de vértices que $G$ y cuyo conjunto de aristas consiste en todos las aristas de $G$ excepto $e$. \n",
    "\n",
    "* Además, si $X$ es un conjunto de aristas de $G$, entonces $G-X$ es el subgrafo que posee el mismo conjunto de vértices que $G$ y todas las aristas de $G$ excepto las de $X$.\n",
    "  * Si $G$ tiene orden $n$, entonces $G-E(G)$ es el grafo vacío $\\bar{K}_n$.\n",
    "\n"
   ]
  },
  {
   "cell_type": "markdown",
   "metadata": {
    "slideshow": {
     "slide_type": "subslide"
    }
   },
   "source": [
    "> Una arista $e=u v$ de un grafo conexo $G$ se llama **puente** de $G$ si $G-e$ está disociado. \n",
    "\n",
    "* En este caso, $G-e$ contiene necesariamente exactamente dos componentes, uno que contiene a $u$ y el otro que contiene a $v$. \n",
    "\n",
    "* Si el vértice $v$, por ejemplo, tiene grado 1, entonces el componente de $G-e$ que contiene a $v$ es un único vértice.\n",
    "\n",
    "* Una arista $e$ es un puente de un grafo no conectado si $e$ es un puente de algún componente de $G$. \n",
    "\n"
   ]
  },
  {
   "cell_type": "markdown",
   "metadata": {
    "slideshow": {
     "slide_type": "subslide"
    }
   },
   "source": [
    "* $k(G)$ es el número de componentes de un grafo $G$. \n",
    "\n",
    "* Por lo tanto, una arista $e$ es un puente de un grafo $G$ si y solo si $k(G-e)=$ $k(G)+1$. \n",
    "\n",
    "<center>\n",
    "<img src='./fig/grafo01.png'>\n",
    "\n",
    "<center>\n",
    "Figura 4.2. Un grafo desconectado con cuatro puentes."
   ]
  },
  {
   "cell_type": "markdown",
   "metadata": {
    "slideshow": {
     "slide_type": "subslide"
    }
   },
   "source": [
    "> **Teorema 4.1.** Una arista $e$ de un grafo $G$ es un puente si y sólo si $e$ no se encuentra en ningún ciclo de $G$.\n",
    "\n",
    "*Demostración.* \n",
    "\n",
    "Primero demostrar $\\Rightarrow$, es decir: $e$ es un puente, entonces $e$ no está un ciclo. Lo que es lo mismo: si $e$ no es un puente entonces está en un ciclo.\n",
    "\n",
    "* Supongamos que $e=u v$ no es un puente y que $e$ se encuentra en la componente $G_1$ de $G$. (Por supuesto, $G_1=G$ si $G$ es conexo). \n",
    "  * Como $e$ no es un puente, $G_1 - e$ es conexo. \n",
    "  * Por lo tanto, existe un camino $P$ $u-v$  en $G_1-e$. \n",
    "  * Entonces, $P$ junto con $e$ forman un ciclo que contiene a $e$ en $G_1$ y, por tanto, también en $G$.\n",
    "\n"
   ]
  },
  {
   "cell_type": "markdown",
   "metadata": {
    "slideshow": {
     "slide_type": "subslide"
    }
   },
   "source": [
    "Ahora, hay que demostrar $\\Leftarrow$, es decir: $e$ no está en un ciclo entonces $e$ es un puente. Lo que es igual a: $e$ está en un ciclo, entonces $e$ no es un puente.\n",
    "\n",
    "* Supongamos que $e=u v$ se encuentra en un ciclo $C$ de $G$ y que $e$ (y $C$ ) pertenecen a la componente $G_1$ de $G$. \n",
    "  * Entonces, existe un camino $P^{\\prime}$ $u-v$ en $G_1$ que no contiene a $e$. \n",
    "  * Sean $x$ e $y$ dos vértices cualesquiera de $G_1-e$. Como $G_1$ es conexo, $G_1$ contiene un camino $Q$ $x-y$. \n",
    "    * Si $e$ no está en $Q$, entonces $Q$ también es un camino $x-y$ en $G_1-e$. \n",
    "    * Si $e$ está en $Q$, entonces reemplazar $e$ en $Q$ por el camino $P^{\\prime}$ produce un recorrido $x-y$. Por el Teorema 1.6, $G_1-e$ contiene un camino $x-y$."
   ]
  },
  {
   "cell_type": "markdown",
   "metadata": {
    "slideshow": {
     "slide_type": "slide"
    }
   },
   "source": [
    "## 4.2. Árboles"
   ]
  },
  {
   "cell_type": "markdown",
   "metadata": {
    "slideshow": {
     "slide_type": "subslide"
    }
   },
   "source": [
    "* Un grafo $G$ se llama acíclico si no tiene ciclos. \n",
    "\n",
    "> Un **árbol** es un grafo acíclico conexo. \n",
    "\n",
    "* Cuando tratamos con árboles, a menudo usamos $T$ en lugar de $G$ para denotar un árbol. \n",
    "\n",
    "* Por el Teorema 4.1, cada arista en un árbol es un puente. \n",
    "  * podríamos definir un árbol como un grafo conexo, del cual, cada arista  es un puente. \n"
   ]
  },
  {
   "cell_type": "markdown",
   "metadata": {
    "slideshow": {
     "slide_type": "subslide"
    }
   },
   "source": [
    "<center>\n",
    "<img src='./fig/6arboles.png'>\n",
    "\n",
    "<center>\n",
    "Figura. 4.3. Los árboles de orden 6."
   ]
  },
  {
   "cell_type": "markdown",
   "metadata": {
    "slideshow": {
     "slide_type": "subslide"
    }
   },
   "source": [
    "* Hay ocasiones en las que es conveniente seleccionar un vértice de un árbol $T$ en discusión y designar este vértice como la **raíz** de $T$. \n",
    "\n",
    "* El árbol $T$ se convierte entonces en un *árbol con raíz*. \n",
    "  * el árbol con raíz $T$ se dibuja con la raíz $r$ en la parte superior y los otros vértices de $T$ dibujados debajo, en niveles, de acuerdo con sus distancias a $r$. \n",
    "\n",
    "<center>\n",
    "<img src='./fig/arbol_con_raiz.png'>\n",
    "\n",
    "<center>\n",
    "Fugura 4.4. Un árbol con raiz."
   ]
  },
  {
   "cell_type": "markdown",
   "metadata": {
    "slideshow": {
     "slide_type": "subslide"
    }
   },
   "source": [
    "* Los grafos acíclicos también se conocen como **bosques**. \n",
    "  * Por lo tanto, cada componente de un bosque es (como era de esperar) un árbol. \n",
    "  * el único hecho que distingue a los árboles de los bosques es que se requiere que un árbol esté conectado, mientras que un bosque no necesita estar conectado. \n",
    "\n"
   ]
  },
  {
   "cell_type": "markdown",
   "metadata": {
    "slideshow": {
     "slide_type": "subslide"
    }
   },
   "source": [
    "> **Teorema 4.2.** Un grafo $G$ es un árbol si y solo si cada dos vértices de $G$ están conectados por un único camino.\n",
    "\n",
    "*Demostración.*\n",
    "\n",
    "* $\\Rightarrow$ sea $G$ un árbol. \n",
    "  * Entonces, por definición, $G$ está conectado y no tiene ciclos.\n",
    "  * Está conectado, entonces cada dos vértices de $G$ están conectados al menos por un camino. \n",
    "  * Supongamos que hay dos vértices $u$ y $v$ en $G$ que están conectados por más de un camino. Sean $P$ y $Q$ dos caminos $uv$.\n",
    "    * Entonces, al concatenar $P$ y $Q$ se crea un ciclo, esto es una contradicción, ya que G no tiene ciclos.\n",
    "  * Por tanto cada par de vértices distintos están conectados por un único camino.\n"
   ]
  },
  {
   "cell_type": "markdown",
   "metadata": {
    "slideshow": {
     "slide_type": "subslide"
    }
   },
   "source": [
    "* $\\Leftarrow$ cada dos vértices distintos de $G$ están conectados por un único camino. \n",
    "  * Entonces, $G$ está conectado. \n",
    "  * Como cada par de vértices están conectados por un único camino, no hay manera que se cree un ciclo.\n",
    "  * Por lo tanto, $G$ está conectado y es acíclico, entonces $G$ es un árbol.\n"
   ]
  },
  {
   "cell_type": "markdown",
   "metadata": {
    "slideshow": {
     "slide_type": "subslide"
    }
   },
   "source": [
    "> **Teorema 4.3.** Todo árbol no trivial tiene al menos dos vértices finales.\n",
    "\n",
    "*Demostración.* \n",
    "\n",
    "* Sea $T$ un árbol no trivial y, entre todos los caminos en $T$, sea $P$ el camino de mayor longitud. \n",
    "* Supóngase que $P$ es un camino $u-v$, digamos $P=\\left(u=u_0, u_1, \\ldots, u_k=v\\right)$, donde $k \\geq 1$. \n",
    "* Entonces $u$ y $v$ son vértices finales de $G$. \n",
    "  * Ni $u$ ni $v$ son adyacentes a ningún vértice que no esté en $P$ \n",
    "    * de lo contrario se produciría un camino de mayor longitud. \n",
    "  * $u$ es adyacente a $u_1$ en $P$ y $v$ es adyacente a $u_{k-1}$ en $P$\n",
    "  * como $T$ no contiene ciclos, $\\operatorname{deg} u=\\operatorname{deg} v=1$.\n"
   ]
  },
  {
   "cell_type": "markdown",
   "metadata": {
    "slideshow": {
     "slide_type": "subslide"
    }
   },
   "source": [
    "> **Teorema 4.4.** Todo árbol de orden $n$ tiene tamaño $n-1$.\n",
    "> \n",
    "*Demostración.* \n",
    "\n",
    "Por inducción sobre $n$. \n",
    "\n",
    "* *Caso base*: Sólo hay un árbol de orden 1, que tiene tamaño 0. \n",
    "* *Hipótesis de inducción*. Supongamos para un entero positivo $k$ que el tamaño de cada árbol de orden $k$ es $k-1$. \n",
    "* Demostrar que es cierto para $T$, un árbol de orden $k+1$. \n",
    "  * Por el Teorema 4.3, $T$ contiene al menos dos vértices finales. Sea $v$ uno de ellos. \n",
    "  * Entonces $T^{\\prime}=T-v$ es un árbol de orden $k$. \n",
    "  * Por la hipótesis de inducción, el tamaño de $T^{\\prime}$ es $m=k-1$. Como $T$ tiene exactamente una arista más que $T^{\\prime}$, el tamaño de $T$ es $m+1=(k-1)+1=(k+1)-1$, como se deseaba."
   ]
  },
  {
   "cell_type": "markdown",
   "metadata": {
    "slideshow": {
     "slide_type": "subslide"
    }
   },
   "source": [
    "> **Corolario 4.6.** Todo bosque de orden $n$ con $k$ componentes tiene tamaño $n-k$.\n",
    "\n",
    "*Demostración.* \n",
    "\n",
    "* Supóngase que el tamaño de un bosque $F$ es $m$. \n",
    "* Sean $G_1, G_2, \\ldots, G_k$ los componentes de $F$, donde $k \\geq 1$. \n",
    "* $G_i$ tiene orden $n_i$ y tamaño $m_i$ para $1 \\leq i \\leq k$. \n",
    "* Entonces $n=\\sum_{i=1}^k n_i$ y $m=\\sum_{i=1}^k m_i$. Puesto que cada componente $G_i(1 \\leq i \\leq k)$ es un árbol, se sigue por el Teorema 4.4 que $m_i=n_i-1$. Por lo tanto,\n",
    "\n",
    "$$\n",
    "m=\\sum_{i=1}^k m_i=\\sum_{i=1}^k\\left(n_i-1\\right)=n-k\n",
    "$$"
   ]
  },
  {
   "cell_type": "markdown",
   "metadata": {
    "slideshow": {
     "slide_type": "subslide"
    }
   },
   "source": [
    "> **Teorema 4.7.** El tamaño de todo grafo conexo de orden $n$ es al menos $n-1$.\n",
    "\n",
    "*Demostración.* \n",
    "\n",
    "* Supongamos que el existe un grafo conexo $G$ de orden más pequeño $n$ cuyo tamaño $m$ es como máximo $n-2$. \n",
    "  * Entonces $G$ contiene un vértice final; \n",
    "    * ya que si el grado de cada vértice de $G$ es al menos 2. \n",
    "    * Entonces, la suma de los grados de los vértices de $G$ es $2 m \\geq 2 n$; \n",
    "    * por lo tanto, $m \\geq n \\geq m+2$, lo cual es imposible. \n",
    "\n",
    "  * Sea $v$ un vértice final de $G$. Como $G$ es conexo, tiene orden $n$ y tamaño $m \\leq n$ -2 \n",
    "    * $G-v$ es conexo y tiene orden $n-1$ y tamaño $m-1 \\leq n-3$ $!$\n",
    "\n"
   ]
  },
  {
   "cell_type": "markdown",
   "metadata": {
    "slideshow": {
     "slide_type": "subslide"
    }
   },
   "source": [
    "> **Teorema 4.8.** Sea $G$ un grafo de orden $n$ y tamaño $m$. Si $G$ satisface dos de las propiedades:\n",
    "> * Está conectado\n",
    "> * No contiene ciclos \n",
    "> * $ m = n - 1 $\n",
    "> \n",
    "> entonces $G$ es un árbol."
   ]
  },
  {
   "cell_type": "markdown",
   "metadata": {
    "slideshow": {
     "slide_type": "subslide"
    }
   },
   "source": [
    "*Demostración.* \n",
    "\n",
    "En primer lugar, si $G$ satisface (1) y (2), entonces $G$ es un árbol por definición. Por lo tanto, podemos suponer que $G$ satisface (1) y (3) o que $G$ satisface (2) y (3). Consideremos estos dos casos.\n",
    "\n",
    "*Caso 1.* G satisface (1) y (3). Como $G$ es conexo, basta con demostrar que $G$ es acíclico. Supongamos, por el contrario, que $G$ contiene un ciclo $C$. Sea $e$ una arista de $C$. Entonces $e$ no es un puente de $G$ según el Teorema 4.1. Por lo tanto, $G-e$ es un grafo conexo de orden $n$ y tamaño $n-2$, lo que contradice el Teorema 4.7. Por lo tanto, $G$ es acíclico y, por lo tanto, es un árbol.\n",
    "\n",
    "*Caso 2.* $G$ satisface (2) y (3). Como $G$ es acíclico, basta con demostrar que $G$ es conexo. Como $G$ satisface (2) y (3), se deduce que $G$ es un bosque de orden $n$ y tamaño $m=n-1$. Por el Corolario 4.6, el tamaño de $G$ es $n-k$, donde $k$ es el número de componentes de $G$. Por lo tanto, $n-1=n-k$ y, por lo tanto, $k=1$. Por lo tanto, $G$ es\n",
    "conexo."
   ]
  },
  {
   "cell_type": "markdown",
   "metadata": {
    "slideshow": {
     "slide_type": "slide"
    }
   },
   "source": [
    "## 4.3. Árboles de expansión mínimos"
   ]
  },
  {
   "cell_type": "markdown",
   "metadata": {
    "slideshow": {
     "slide_type": "subslide"
    }
   },
   "source": [
    "Si un grafo conexo $G$ de orden $n$ no tiene ciclos, entonces, por supuesto, $G$ es un árbol. Por otro lado, supongamos que $G$ contiene ciclos. Sea $e_1$ una arista que se encuentra en un ciclo de $G$. Por el Teorema 4.1, $e_1$ no es un puente y $G-e_1$ es conexo. Si $G-e_1$ contiene ciclos, sea $e_2$ una arista que se encuentra en un ciclo de $G-e_1$. Entonces $G-e_1- e_2$ es conexo. Finalmente, llegamos a un conjunto $X=\\left\\{e_1, e_2, \\ldots, e_k\\right\\}$ de aristas de $G$ tales que $G-X$ es un árbol. El árbol $G-X$ que acabamos de construir es un subgrafo de $G$ que tiene el mismo conjunto de vértices que $G$.\n",
    "\n"
   ]
  },
  {
   "cell_type": "markdown",
   "metadata": {
    "slideshow": {
     "slide_type": "subslide"
    }
   },
   "source": [
    "Podemos considerar la observación que acabamos de hacer de otra manera. Sea $G$ un grafo conexo. Consideremos el grafo vacío $H$ con el conjunto de vértices $V(G)$. Añada una arista $f_1$ de $G$ a $H$. Luego, añada otra arista $f_2$ de $G$ a $H$. A continuación, añada otra arista $f_3$ de $G$ a $H$, donde $f_3 \\notin\\left\\{f_1, f_2\\right\\}$ y tal que no se produzca ningún ciclo. Continuamos esto hasta que hayamos añadido las aristas $f_1, f_2, \\ldots, f_{n-1}$ de $G$ a $H$, produciendo un grafo $F$ de orden $n$, tamaño $n-1$ y sin ciclos. Por el Teorema 4.8, $F$ es un árbol con $V(F)=V(G)$. Sabemos que es posible construir un árbol de esta manera, ya que siempre podemos elegir las aristas de $G-X$ mencionadas anteriormente."
   ]
  },
  {
   "cell_type": "markdown",
   "metadata": {
    "slideshow": {
     "slide_type": "subslide"
    }
   },
   "source": [
    "Acabamos de describir dos maneras de producir árboles $T$ que son subgrafos de un grafo conexo $G$ dado tal que $V(T)=V(G)$. Recordemos que un subgrafo $H$ de un grafo $G$ es un subgrafo generador de $G$ si $H$ contiene todos los vértices de $G$. Un subgrafo generador $H$ de un grafo conexo $G$ tal que $H$ es un árbol se denomina árbol generador o árbol de expansión de $G$. "
   ]
  },
  {
   "cell_type": "markdown",
   "metadata": {
    "slideshow": {
     "slide_type": "subslide"
    }
   },
   "source": [
    "Para el grafo conexo $G$ de la Figura 4.7, también se muestran en la Figura 4.7 dos árboles generadores diferentes $T_1$ y $T_2$ de $G$. Hemos observado lo siguiente.\n",
    "\n",
    "<center>\n",
    "<img src='./fig/spanning_trees.png'>\n",
    "\n",
    "<center>\n",
    "Fugura 4.7. Dos árboles de expansión de un grafo."
   ]
  },
  {
   "cell_type": "markdown",
   "metadata": {
    "slideshow": {
     "slide_type": "subslide"
    }
   },
   "source": [
    "> **Teorema 4.10.** Todo grafo conexo contiene un árbol de expansión.\n",
    "\n",
    "*Demostración*\n",
    "\n",
    "Supongamos que existe un grafo $G$ que no tiene un árbol de expansión, y $H$ un subgrafo de $G$ que no es generador de $G$ pero que no tiene ciclos y está conectado. Eso quiere decir que existe un vértice $v \\in V(G)$ pero $v \\notin V(H)$, y una arista $e=(u,v)$ tal que $e \\in E(G)$ pero $ e \\notin E(H)$ (ya que $G$ es conexo), entonces podemos crear el grafo $H+e$ que estará conectado (agregar una arista no descontecta) y no tendrá ciclos ($v \\notin V(H)$). Por lo que $H+e$ será un árbol de expansión de $G$"
   ]
  },
  {
   "cell_type": "markdown",
   "metadata": {
    "slideshow": {
     "slide_type": "subslide"
    }
   },
   "source": [
    "Sea $G$ un grafo conexo, cada una de cuyas aristas tiene asignado un número (llamado coste o peso de la arista). Denotamos el peso de una arista $e$ de $G$ por $w(e)$. Recordemos que este tipo de grafo se denomina grafo ponderado. Para cada subgrafo $H$ de $G$, el peso $w(H)$ de $H$ se define como la suma de los pesos de sus aristas, es decir,\n",
    "\n",
    "$$\n",
    "w(H)=\\sum_{e \\in E(H)} w(e) .\n",
    "$$\n",
    "\n",
    "Buscamos un árbol de expansión de $G$ cuyo peso sea mínimo entre todos los árboles de expansión de $G$. Este árbol de expansión se denomina árbol de expansión mínimo. El problema de encontrar un **árbol de expansión mínimo** en un grafo ponderado conexo se denomina Problema del Árbol de Expansión Mínimo."
   ]
  },
  {
   "cell_type": "markdown",
   "metadata": {
    "slideshow": {
     "slide_type": "subslide"
    }
   },
   "source": [
    "### Algoritmo de Kruskal\n",
    "\n",
    "Para un grafo ponderado conexo $G$, se construye un árbol de expansión $T$ de $G$ de la siguiente manera: \n",
    "\n",
    "* Para la primera arista $e_1$ de $T$, seleccionamos cualquier arista de $G$ con peso mínimo \n",
    "* Para la segunda arista $e_2$ de $T$, seleccionamos cualquier arista restante de $G$ con peso mínimo. \n",
    "* Para la tercera arista $e_3$ de $T$, elegimos cualquier arista restante de $G$ con peso mínimo que no produzca un ciclo con las aristas previamente seleccionadas. \n",
    "* Continuamos de esta manera hasta que se genere un árbol de expansión."
   ]
  },
  {
   "cell_type": "markdown",
   "metadata": {
    "slideshow": {
     "slide_type": "subslide"
    }
   },
   "source": [
    "<center>\n",
    "<img src='fig/kruskal.png'>\n",
    "\n",
    "Figura 4.8: Construcción de un árbol de expansión mediante el algoritmo de Kruskal"
   ]
  },
  {
   "cell_type": "markdown",
   "metadata": {
    "slideshow": {
     "slide_type": "subslide"
    }
   },
   "source": [
    "#### Propiedad de corte\n",
    "\n",
    "Definimos un **corte** como un subconjunto $S$ de nodos, y un **conjunto de corte** $D(S)$ como el subconjunto de aristas en las que solo uno de sus vértices pertenece a $S$\n",
    "\n",
    "<center>\n",
    "<img src='fig/cutset.png'>\n",
    "</center>"
   ]
  },
  {
   "cell_type": "markdown",
   "metadata": {
    "slideshow": {
     "slide_type": "subslide"
    }
   },
   "source": [
    "> Sea $S$ cualquier subconjunto de vértices, y sea $e$ la arista de menor costo que pertenece al conjunto de corte de $D(S)$. Entonces el árbol de expansión mínima $T$ contiene a $e$.\n",
    "> \n",
    "*Demostración.*\n",
    "\n",
    "* Supongamos que $e$ no está en $T$ \n",
    "* Si añadimos $e$ a $T$, entonces se crea un ciclo $C$ en $T$.\n",
    "* La arista $e$ está entonces tanto en el ciclo $C$ como en el conjunto de corte $D(S)$ (ver figura); por tanto, existe otra arista $f$, que está también en $C$ y en $D$\n",
    "* $ T' = T - f + e $ es un árbol de expansión\n",
    "* Como $ w(e) \\leq w(f)$, entonces $ w(T') \\leq w(T) !$\n"
   ]
  },
  {
   "cell_type": "markdown",
   "metadata": {
    "slideshow": {
     "slide_type": "subslide"
    }
   },
   "source": [
    "<center>\n",
    "<img src='fig/prop_corte.png'>\n",
    "</center>"
   ]
  },
  {
   "cell_type": "markdown",
   "metadata": {
    "slideshow": {
     "slide_type": "subslide"
    }
   },
   "source": [
    "#### Propiedad de ciclo\n",
    "\n",
    "> Sea $C$ un ciclo, y sea $f$ la arista de mayor costo en el ciclo $C$. Entonces, el árbol de expansión mínima $T$ no contiene a $f$.\n",
    "\n",
    "*Demostración.*\n",
    "\n",
    "* Supongamos que $f$ está en $T$ \n",
    "* Si eliminamos $f$ de $T$, entonces se crea un corte $S$ en $T$.\n",
    "* La arista $f$ está entonces tanto en el ciclo $C$ como en el conjunto de corte $D$ de $S$ (ver figura); por tanto, existe otra arista $e$, que está también en $C$ y en $D$\n",
    "* $ T' = T - f + e $ es un árbol de expansión\n",
    "* Como $ w(e) \\leq w(f)$, entonces $ w(T') \\leq w(T) !$"
   ]
  },
  {
   "cell_type": "markdown",
   "metadata": {
    "slideshow": {
     "slide_type": "subslide"
    }
   },
   "source": [
    "> **Teorema 4.11.** El algoritmo de Kruskal produce un árbol de expansión mínimo en un grafo ponderado conexo.\n",
    "\n",
    "*Demostración.*\n",
    "\n",
    "Sea $G$ un grafo ponderado conexo de orden $n$ y sea $T$ un árbol de expansión obtenido mediante el algoritmo de Kruskal, donde las aristas de $T$ se seleccionan en el orden $e_1, e_2, \\ldots, e_{n-1}$. Necesariamente, entonces, $w\\left(e_1\\right) \\leq w\\left(e_2\\right) \\leq \\ldots \\leq w\\left(e_{n-1}\\right)$ y el peso de $T$ es\n",
    "\n",
    "* Si el agregar la arista crea un ciclo, entonces se descarta, de acuerdo con la propiedad de ciclo\n",
    "* De lo contrario, se inserta e en T, de acuerdo con la propiedad de corte\n",
    "\n",
    "\n",
    "\n"
   ]
  },
  {
   "cell_type": "markdown",
   "metadata": {
    "slideshow": {
     "slide_type": "subslide"
    }
   },
   "source": [
    "### Algoritmo de Prim\n",
    "\n",
    "Para un grafo ponderado conexo $G$, se construye un árbol de expansión $T$ de $G$ de la siguiente manera: \n",
    "\n",
    "* Para un vértice arbitrario $u$ para $G$, se selecciona una arista de peso mínimo incidente con $u$ como la primera arista $e_1$ de $T$. \n",
    "* Para las aristas subsiguientes $e_2, e_3, \\ldots, e_{n-1}$, se selecciona una arista de peso mínimo entre aquellas que tienen exactamente uno de sus vértices incidente con una arista ya seleccionada."
   ]
  },
  {
   "cell_type": "markdown",
   "metadata": {
    "slideshow": {
     "slide_type": "subslide"
    }
   },
   "source": [
    "<center>\n",
    "<img src='fig/prim.png'>\n",
    "\n",
    "Figura 4.9: Construcción de un árbol de expansión mediante el algoritmo de Prim"
   ]
  },
  {
   "cell_type": "markdown",
   "metadata": {
    "slideshow": {
     "slide_type": "subslide"
    }
   },
   "source": [
    "> **Teorema 4.12.** El algoritmo de Prim produce un árbol de expansión mínimo en un grafo ponderado conexo.\n",
    "\n",
    "*Demostración.*\n",
    "\n",
    "* Se crea el corte $S = \\{ u \\}$ con un vértice arbitrario $u \\in V(G)$\n",
    "* De acuerdo a la propiedad de corte se agrega la arista $e$ de menor peso en el conjunto de corte $D(S)$ al corte $S$\n",
    "* Se repite hasta que el conjunto de corte $S$ sea igual a $V(G)$\n"
   ]
  },
  {
   "cell_type": "markdown",
   "metadata": {
    "slideshow": {
     "slide_type": "slide"
    }
   },
   "source": [
    "# Fin de la Unidad 4"
   ]
  }
 ],
 "metadata": {
  "language_info": {
   "name": "python"
  }
 },
 "nbformat": 4,
 "nbformat_minor": 2
}
