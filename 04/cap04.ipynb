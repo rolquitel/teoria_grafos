{
 "cells": [
  {
   "cell_type": "markdown",
   "metadata": {},
   "source": [
    "# 4. Árboles"
   ]
  },
  {
   "cell_type": "markdown",
   "metadata": {},
   "source": [
    "## 4.1. Puentes"
   ]
  },
  {
   "cell_type": "markdown",
   "metadata": {},
   "source": [
    "* Si $e$ es una arista de un grafo $G$, entonces $G-e$ es el subgrafo de $G$ que tiene el mismo conjunto de vértices que $G$ y cuyo conjunto de aristas consiste en todos las aristas de $G$ excepto $e$. \n",
    "\n",
    "* Además, si $X$ es un conjunto de aristas de $G$, entonces $G-X$ es el subgrafo que posee el mismo conjunto de vértices que $G$ y todas las aristas de $G$ excepto las de $X$.\n",
    "  * Si $G$ tiene orden $n$, entonces $G-E(G)$ es el grafo vacío $\\bar{K}_n$.\n",
    "\n"
   ]
  },
  {
   "cell_type": "markdown",
   "metadata": {},
   "source": [
    "> Una arista $e=u v$ de un grafo conexo $G$ se llama **puente** de $G$ si $G-e$ está disociado. \n",
    "\n",
    "* En este caso, $G-e$ contiene necesariamente exactamente dos componentes, uno que contiene a $u$ y el otro que contiene a $v$. \n",
    "\n",
    "* Si el vértice $v$, por ejemplo, tiene grado 1, entonces el componente de $G-e$ que contiene a $v$ es un único vértice.\n",
    "\n",
    "* Una arista $e$ es un puente de un grafo no conectado si $e$ es un puente de algún componente de $G$. \n",
    "\n"
   ]
  },
  {
   "cell_type": "markdown",
   "metadata": {},
   "source": [
    "* $k(G)$ es el número de componentes de un grafo $G$. \n",
    "\n",
    "* Por lo tanto, una arista $e$ es un puente de un grafo $G$ si y solo si $k(G-e)=$ $k(G)+1$. \n",
    "\n",
    "<center>\n",
    "<img src='./fig/grafo01.png'>\n",
    "\n",
    "<center>\n",
    "Figura 4.2. Un grafo desconectado con cuatro puentes."
   ]
  },
  {
   "cell_type": "markdown",
   "metadata": {},
   "source": [
    "> **Teorema 4.1.** Una arista $e$ de un grafo $G$ es un puente si y sólo si $e$ no se encuentra en ningún ciclo de $G$.\n",
    "\n",
    "*Demostración.* \n",
    "\n",
    "Primero demostrar $\\Rightarrow$, es decir: $e$ es un puente, entonces $e$ no está un ciclo. Lo que es lo mismo: si $e$ no es un puente entonces está en un ciclo.\n",
    "\n",
    "* Supongamos que $e=u v$ no es un puente y que $e$ se encuentra en la componente $G_1$ de $G$. (Por supuesto, $G_1=G$ si $G$ es conexo). \n",
    "  * Como $e$ no es un puente, $G_1 - e$ es conexo. \n",
    "  * Por lo tanto, existe un camino $P$ $u-v$  en $G_1-e$. \n",
    "  * Entonces, $P$ junto con $e$ forman un ciclo que contiene a $e$ en $G_1$ y, por tanto, también en $G$.\n",
    "\n"
   ]
  },
  {
   "cell_type": "markdown",
   "metadata": {},
   "source": [
    "Ahora, hay que demostrar $\\Leftarrow$, es decir: $e$ no está en un ciclo entonces $e$ es un puente. Lo que es igual a: $e$ está en un ciclo, entonces $e$ no es un puente.\n",
    "\n",
    "* Supongamos que $e=u v$ se encuentra en un ciclo $C$ de $G$ y que $e$ (y $C$ ) pertenecen a la componente $G_1$ de $G$. \n",
    "  * Entonces, existe un camino $P^{\\prime}$ $u-v$ en $G_1$ que no contiene a $e$. \n",
    "  * Sean $x$ e $y$ dos vértices cualesquiera de $G_1-e$. Como $G_1$ es conexo, $G_1$ contiene un camino $Q$ $x-y$. \n",
    "    * Si $e$ no está en $Q$, entonces $Q$ también es un camino $x-y$ en $G_1-e$. \n",
    "    * Si $e$ está en $Q$, entonces reemplazar $e$ en $Q$ por el camino $P^{\\prime}$ produce un recorrido $x-y$. Por el Teorema 1.6, $G_1-e$ contiene un camino $x-y$."
   ]
  },
  {
   "cell_type": "markdown",
   "metadata": {},
   "source": [
    "## 4.2. Árboles"
   ]
  },
  {
   "cell_type": "markdown",
   "metadata": {},
   "source": [
    "* Un grafo $G$ se llama acíclico si no tiene ciclos. \n",
    "\n",
    "> Un **árbol** es un grafo acíclico conexo. \n",
    "\n",
    "* Cuando tratamos con árboles, a menudo usamos $T$ en lugar de $G$ para denotar un árbol. \n",
    "\n",
    "* Por el Teorema 4.1, cada arista en un árbol es un puente. \n",
    "  * podríamos definir un árbol como un grafo conexo, del cual, cada arista  es un puente. \n"
   ]
  },
  {
   "cell_type": "markdown",
   "metadata": {},
   "source": [
    "<center>\n",
    "<img src='./fig/6arboles.png'>\n",
    "\n",
    "<center>\n",
    "Figura. 4.3. Los árboles de orden 6."
   ]
  },
  {
   "cell_type": "markdown",
   "metadata": {},
   "source": [
    "* Hay ocasiones en las que es conveniente seleccionar un vértice de un árbol $T$ en discusión y designar este vértice como la **raíz** de $T$. \n",
    "\n",
    "* El árbol $T$ se convierte entonces en un *árbol con raíz*. \n",
    "  * el árbol con raíz $T$ se dibuja con la raíz $r$ en la parte superior y los otros vértices de $T$ dibujados debajo, en niveles, de acuerdo con sus distancias a $r$. \n",
    "\n",
    "<center>\n",
    "<img src='./fig/arbol_con_raiz.png'>\n",
    "\n",
    "<center>\n",
    "Fugura 4.4. Un árbol con raiz."
   ]
  },
  {
   "cell_type": "markdown",
   "metadata": {},
   "source": [
    "* Los grafos acíclicos también se conocen como **bosques**. \n",
    "  * Por lo tanto, cada componente de un bosque es (como era de esperar) un árbol. \n",
    "  * el único hecho que distingue a los árboles de los bosques es que se requiere que un árbol esté conectado, mientras que un bosque no necesita estar conectado. \n",
    "\n"
   ]
  },
  {
   "cell_type": "markdown",
   "metadata": {},
   "source": [
    "> **Teorema 4.2.** Un grafo $G$ es un árbol si y solo si cada dos vértices de $G$ están conectados por un único camino.\n",
    "\n",
    "*Demostración.*\n",
    "\n",
    "* $\\Rightarrow$ sea $G$ un árbol. \n",
    "  * Entonces, por definición, $G$ está conectado y no tiene ciclos.\n",
    "  * Está conectado, entonces cada dos vértices de $G$ están conectados al menos por un camino. \n",
    "  * Supongamos que hay dos vértices $u$ y $v$ en $G$ que están conectados por más de un camino. Sean $P$ y $Q$ dos caminos $uv$.\n",
    "    * Entonces, al concatenar $P$ y $Q$ se crea un ciclo, esto es una contradicción, ya que G no tiene ciclos.\n",
    "  * Por tanto cada par de vértices distintos están conectados por un único camino.\n"
   ]
  },
  {
   "cell_type": "markdown",
   "metadata": {},
   "source": [
    "* $\\Leftarrow$ cada dos vértices distintos de $G$ están conectados por un único camino. \n",
    "  * Entonces, $G$ está conectado. \n",
    "  * Como cada par de vértices están conectados por un único camino, no hay manera que se cree un ciclo.\n",
    "  * Por lo tanto, $G$ está conectado y es acíclico, entonces $G$ es un árbol.\n"
   ]
  },
  {
   "cell_type": "markdown",
   "metadata": {},
   "source": [
    "> **Teorema 4.3.** Todo árbol no trivial tiene al menos dos vértices finales.\n",
    "\n",
    "*Demostración.* \n",
    "\n",
    "* Sea $T$ un árbol no trivial y, entre todos los caminos en $T$, sea $P$ el camino de mayor longitud. \n",
    "* Supóngase que $P$ es un camino $u-v$, digamos $P=\\left(u=u_0, u_1, \\ldots, u_k=v\\right)$, donde $k \\geq 1$. \n",
    "* Entonces $u$ y $v$ son vértices finales de $G$. \n",
    "  * Ni $u$ ni $v$ son adyacentes a ningún vértice que no esté en $P$ \n",
    "    * de lo contrario se produciría un camino de mayor longitud. \n",
    "  * $u$ es adyacente a $u_1$ en $P$ y $v$ es adyacente a $u_{k-1}$ en $P$\n",
    "  * como $T$ no contiene ciclos, $\\operatorname{deg} u=\\operatorname{deg} v=1$.\n"
   ]
  },
  {
   "cell_type": "markdown",
   "metadata": {},
   "source": [
    "> **Teorema 4.4.** Todo árbol de orden $n$ tiene tamaño $n-1$.\n",
    "> \n",
    "*Demostración.* \n",
    "\n",
    "Por inducción sobre $n$. \n",
    "\n",
    "* *Caso base*: Sólo hay un árbol de orden 1, que tiene tamaño 0. \n",
    "* *Hipótesis de inducción*. Supongamos para un entero positivo $k$ que el tamaño de cada árbol de orden $k$ es $k-1$. \n",
    "* Demostrar que es cierto para $T$, un árbol de orden $k+1$. \n",
    "  * Por el Teorema 4.3, $T$ contiene al menos dos vértices finales. Sea $v$ uno de ellos. \n",
    "  * Entonces $T^{\\prime}=T-v$ es un árbol de orden $k$. \n",
    "  * Por la hipótesis de inducción, el tamaño de $T^{\\prime}$ es $m=k-1$. Como $T$ tiene exactamente una arista más que $T^{\\prime}$, el tamaño de $T$ es $m+1=(k-1)+1=(k+1)-1$, como se deseaba."
   ]
  },
  {
   "cell_type": "markdown",
   "metadata": {},
   "source": [
    "> **Corolario 4.6.** Todo bosque de orden $n$ con $k$ componentes tiene tamaño $n-k$.\n",
    "\n",
    "*Demostración.* \n",
    "\n",
    "* Supóngase que el tamaño de un bosque $F$ es $m$. \n",
    "* Sean $G_1, G_2, \\ldots, G_k$ los componentes de $F$, donde $k \\geq 1$. \n",
    "* $G_i$ tiene orden $n_i$ y tamaño $m_i$ para $1 \\leq i \\leq k$. \n",
    "* Entonces $n=\\sum_{i=1}^k n_i$ y $m=\\sum_{i=1}^k m_i$. Puesto que cada componente $G_i(1 \\leq i \\leq k)$ es un árbol, se sigue por el Teorema 4.4 que $m_i=n_i-1$. Por lo tanto,\n",
    "\n",
    "$$\n",
    "m=\\sum_{i=1}^k m_i=\\sum_{i=1}^k\\left(n_i-1\\right)=n-k\n",
    "$$"
   ]
  },
  {
   "cell_type": "markdown",
   "metadata": {},
   "source": [
    "> **Teorema 4.7.** El tamaño de todo grafo conexo de orden $n$ es al menos $n-1$.\n",
    "\n",
    "*Demostración.* \n",
    "\n",
    "* Supongamos que el existe un grafo conexo $G$ de orden más pequeño $n$ cuyo tamaño $m$ es como máximo $n-2$. \n",
    "  * Entonces $G$ contiene un vértice final; \n",
    "    * ya que si el grado de cada vértice de $G$ es al menos 2. \n",
    "    * Entonces, la suma de los grados de los vértices de $G$ es $2 m \\geq 2 n$; \n",
    "    * por lo tanto, $m \\geq n \\geq m+2$, lo cual es imposible. \n",
    "\n",
    "  * Sea $v$ un vértice final de $G$. Como $G$ es conexo, tiene orden $n$ y tamaño $m \\leq n$ -2 \n",
    "    * $G-v$ es conexo y tiene orden $n-1$ y tamaño $m-1 \\leq n-3$ $!$\n",
    "\n"
   ]
  },
  {
   "cell_type": "markdown",
   "metadata": {},
   "source": [
    "> **Teorema 4.8.** Sea $G$ un grafo de orden $n$ y tamaño $m$. Si $G$ satisface dos de las propiedades:\n",
    "> * $G$ es un árbol \n",
    "> * Está conectado y no contiene ciclos \n",
    "> * Cualquier par de nodos en $G$ están conectados por un único camino simple \n",
    "> * Si se remueve cualquier arista del conjunto $E$ el grafo resultante está desconectado \n",
    "> * $|V|=|E|+1 $\n",
    "> * Si se agrega una arista a $E$, el grafo resultante contiene un ciclo"
   ]
  },
  {
   "cell_type": "markdown",
   "metadata": {},
   "source": [
    "*Demostración.* \n",
    "\n",
    "En primer lugar, si $G$ satisface (1) y (2), entonces $G$ es un árbol por definición. Por lo tanto, podemos suponer que $G$ satisface (1) y (3) o que $G$ satisface (2) y (3). Consideremos estos dos casos.\n",
    "\n",
    "Caso 1. G satisface (1) y (3). Como $G$ es conexo, basta con demostrar que $G$ es acíclico. Supongamos, por el contrario, que $G$ contiene un ciclo $C$. Sea $e$ una arista de $C$. Entonces $e$ no es un puente de $G$ según el Teorema 4.1. Por lo tanto, $G-e$ es un grafo conexo de orden $n$ y tamaño $n-2$, lo que contradice el Teorema 4.7. Por lo tanto, $G$ es acíclico y, por lo tanto, es un árbol.\n",
    "\n",
    "Caso 2. $G$ satisface (2) y (3). Como $G$ es acíclico, basta con demostrar que $G$ es conexo. Como $G$ satisface (2) y (3), se deduce que $G$ es un bosque de orden $n$ y tamaño $m=n-1$. Por el Corolario 4.6, el tamaño de $G$ es $n-k$, donde $k$ es el número de componentes de $G$. Por lo tanto, $n-1=n-k$ y, por lo tanto, $k=1$. Por lo tanto, $G$ es\n",
    "conexo."
   ]
  },
  {
   "cell_type": "markdown",
   "metadata": {},
   "source": []
  }
 ],
 "metadata": {
  "language_info": {
   "name": "python"
  }
 },
 "nbformat": 4,
 "nbformat_minor": 2
}
