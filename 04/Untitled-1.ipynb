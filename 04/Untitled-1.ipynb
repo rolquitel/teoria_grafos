{
 "cells": [
  {
   "cell_type": "code",
   "execution_count": 3,
   "metadata": {},
   "outputs": [],
   "source": [
    "import random\n",
    "\n",
    "def randomArray(size):\n",
    "    \"\"\"\n",
    "    Genera un arreglo que contiene los números del 0 a size-1 pero en órden aleatorio\n",
    "    :param size: tamaño de la lista\n",
    "    :return: lista con los números aleatorios\n",
    "    \"\"\"\n",
    "    k = size\n",
    "    numeros = []\n",
    "    resultado = []\n",
    "\n",
    "    for i in range(size):\n",
    "        numeros.append(i)\n",
    "        resultado.append(i)\n",
    "\n",
    "    for i in range(size):\n",
    "        res = random.randint(0, k - 1)\n",
    "        resultado[i] = numeros[res]\n",
    "        numeros[res] = numeros[k - 1]\n",
    "        k -= 1\n",
    "\n",
    "    return resultado"
   ]
  },
  {
   "cell_type": "code",
   "execution_count": 14,
   "metadata": {},
   "outputs": [
    {
     "name": "stdout",
     "output_type": "stream",
     "text": [
      "F A B E D C "
     ]
    }
   ],
   "source": [
    "l = ['A', 'B', 'C', 'D', 'E', 'F']\n",
    "ra = randomArray(len(l))\n",
    "\n",
    "for i in ra:\n",
    "    print(l[i], end=' ')"
   ]
  },
  {
   "cell_type": "code",
   "execution_count": null,
   "metadata": {},
   "outputs": [],
   "source": []
  }
 ],
 "metadata": {
  "kernelspec": {
   "display_name": "base",
   "language": "python",
   "name": "python3"
  },
  "language_info": {
   "codemirror_mode": {
    "name": "ipython",
    "version": 3
   },
   "file_extension": ".py",
   "mimetype": "text/x-python",
   "name": "python",
   "nbconvert_exporter": "python",
   "pygments_lexer": "ipython3",
   "version": "3.12.4"
  }
 },
 "nbformat": 4,
 "nbformat_minor": 2
}
