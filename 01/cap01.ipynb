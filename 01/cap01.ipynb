{
 "cells": [
  {
   "cell_type": "markdown",
   "metadata": {
    "slideshow": {
     "slide_type": "slide"
    }
   },
   "source": [
    "# 1. Conceptos básicos"
   ]
  },
  {
   "cell_type": "markdown",
   "metadata": {
    "slideshow": {
     "slide_type": "subslide"
    }
   },
   "source": [
    "¿Cómo podemos tender un cable con el mínimo coste para que todos los teléfonos sean accesibles desde todos los demás? ¿Cuál es la ruta más rápida desde la capital nacional a la capital de cada estado? ¿Cómo se pueden cubrir $n$ puestos de trabajo con $n$ personas con la máxima utilidad total? ¿Cuál es el caudal máximo por unidad de tiempo desde el origen hasta el destino en una red de tuberías? ¿Cuántas capas necesita un chip de ordenador para que los cables de la misma capa no se crucen? ¿Cómo se puede programar la temporada de una liga deportiva en el mínimo número de semanas? ¿En qué orden debe visitar las ciudades un viajante de comercio para minimizar el tiempo de viaje? ¿Podemos colorear las regiones de cada mapa utilizando cuatro colores para que las regiones vecinas reciban colores diferentes?\n",
    "\n",
    "Estos y muchos otros problemas prácticos implican la teoría de grafos. En este libro, desarrollamos la teoría de grafos y la aplicamos a dichos problemas. "
   ]
  },
  {
   "cell_type": "markdown",
   "metadata": {
    "slideshow": {
     "slide_type": "slide"
    }
   },
   "source": [
    "## 1.1. ¿Qué es un grafo?\n",
    "\n"
   ]
  },
  {
   "cell_type": "markdown",
   "metadata": {
    "slideshow": {
     "slide_type": "fragment"
    }
   },
   "source": [
    "El problema que a menudo se dice que fue el nacimiento de la teoría de grafos sugerirá nuestra definición básica de grafo. "
   ]
  },
  {
   "cell_type": "markdown",
   "metadata": {
    "slideshow": {
     "slide_type": "subslide"
    }
   },
   "source": [
    "\n",
    "\n",
    "### El problema de los puentes de Königsberg. \n",
    "\n",
    "La ciudad de Königsberg estaba situada en el río Pregel, en Prusia. La ciudad ocupaba dos islas y zonas en ambas orillas. Estas regiones estaban conectadas por siete puentes, como se muestra a la izquierda. Los ciudadanos se preguntaban si podían salir de casa, cruzar cada puente exactamente una vez y regresar a casa. El problema se reduce a recorrer la figura de la right, donde los puntos gruesos representan las masas de tierra y las curvas representan los puentes."
   ]
  },
  {
   "cell_type": "markdown",
   "metadata": {
    "slideshow": {
     "slide_type": "subslide"
    }
   },
   "source": [
    "<center>\n",
    "<img src='./fig/puentes.png'>"
   ]
  },
  {
   "cell_type": "markdown",
   "metadata": {
    "slideshow": {
     "slide_type": "fragment"
    }
   },
   "source": [
    "El modelo de la derecha permite argumentar fácilmente que la travesía deseada no existe. Cada vez que entramos y salimos de una masa de tierra, utilizamos dos puentes que terminan en ella. También podemos emparejar el primer puente con el último puente de la masa de tierra donde comenzamos y terminamos. Por lo tanto, la existencia de la travesía deseada requiere que cada masa de tierra esté involucrada en un número par de puentes. Esta condición necesaria no se cumplió en Königsberg."
   ]
  },
  {
   "cell_type": "markdown",
   "metadata": {
    "slideshow": {
     "slide_type": "subslide"
    }
   },
   "source": [
    "### Definiciones básicas"
   ]
  },
  {
   "cell_type": "markdown",
   "metadata": {
    "slideshow": {
     "slide_type": "subslide"
    }
   },
   "source": [
    "\n",
    "> Un **grafo** $G$ es un par $G=(V, E)$ que consiste en un conjunto finito $V \\neq \\emptyset$ y un conjunto $E$ de subconjuntos de dos elementos de $V$. Los elementos de $V$ se llaman *vértices*. Un elemento $e=\\{a, b\\}$ de $E$ se llama *arista* con vértices extremos $a$ y $b$. \n"
   ]
  },
  {
   "cell_type": "markdown",
   "metadata": {
    "slideshow": {
     "slide_type": "fragment"
    }
   },
   "source": [
    "Un grafo $G$ es un par (en realidad un par ordenado) de dos conjuntos $V$ y $E$. Por esta razón, algunos escriben $G=(V, E)$. A veces, es útil escribir $V(G)$ y $E(G)$ en lugar de $V$ y $E$ para enfatizar que estos son los conjuntos de vértices y aristas de un grafo $G$ en particular. \n",
    "\n",
    "* Aunque $G$ es el símbolo común para usar para un grafo, también usamos $F$ y $H$, así como $G^{\\prime}, G^{\\prime \\prime}$ y $G_1, G_2$, etc. \n",
    "* Los vértices a veces se llaman *puntos* o *nodos* y las aristas a veces se llaman *arcos*. \n",
    "* Dos grafos $G$ y $H$ son iguales si $V(G)=V(H)$ y $E(G)=E(H)$, en cuyo caso escribimos $G=H$.\n",
    "\n"
   ]
  },
  {
   "cell_type": "markdown",
   "metadata": {
    "slideshow": {
     "slide_type": "subslide"
    }
   },
   "source": [
    "> El número de vértices en $G$ es llamado **orden** (denotado por $n$), mientras que el número de aristas es su **tamaño** (denotado por $m$).\n",
    "> * Como el conjunto de vértices no está vacío, el orden de cada grafo es por lo menos de 1.\n",
    "\n",
    "El grafo con exactamente un vértice es llamado **grafo trivial**."
   ]
  },
  {
   "cell_type": "markdown",
   "metadata": {
    "slideshow": {
     "slide_type": "subslide"
    }
   },
   "source": [
    "A menudo ilustraremos grafos con dibujos en el plano. Los vértices de un grafo $G=(V, E)$ se representan por puntos (en negrita) y las aristas por líneas (preferiblemente líneas rectas) que conectan los puntos finales. "
   ]
  },
  {
   "cell_type": "markdown",
   "metadata": {
    "slideshow": {
     "slide_type": "fragment"
    }
   },
   "source": [
    "*Ejemplo* En el grafo anterior, el conjunto de vértices es $\\{x, y, z, w\\}$, el conjunto de aristas es $\\left\\{e_1, e_2, e_3, e_4, e_5, e_6, e_7\\right\\}$, y la asignación de extremos a aristas se puede leer en la imagen.\n",
    "\n",
    "Nótese que las aristas $e_1$ y $e_2$ tienen los mismos extremos, al igual que $e_3$ y $e_4$. Además, si tuviéramos un puente sobre un canal, sus extremos estarían en la misma masa de tierra y lo dibujaríamos como una curva con ambos extremos en el mismo punto. Tenemos términos apropiados para este tipo de aristas en los grafos.\n",
    "\n"
   ]
  },
  {
   "cell_type": "markdown",
   "metadata": {
    "slideshow": {
     "slide_type": "subslide"
    }
   },
   "source": [
    "> Se dice que una arista es **incidente** a cada uno de los vértices que conecta. Es decir si $ e=\\{a, b\\} \\in E $ entonces $e$ es incidente en $a$, así como en $b$, para $ a,b \\in V$.\n",
    "\n",
    "> Si dos aristas inciden en un mismo nodo, se dice que son **aristas adyacentes**. Es decir, si $ e_1 =\\{ a, b\\} \\in E$ y $ e_2 =\\{ a, c\\} \\in E$ entonces $e_1$ y $e_2$ son aristas adyacentes, para $ a,b,c \\in V $.\n",
    "\n",
    "> Un **bucle** es una arista cuyos puntos finales son iguales. Es decir, si $ e = \\{a,a\\} \\in E$ entonces $e$ es un bucle, para $ a \\in V $ \n",
    "\n",
    "> Las **aristas múltiples** son aristas que tienen el mismo par de puntos finales. Es decir, si $ e = \\{ a,b\\} \\in E$ y $ \\exists e_1, e_2, ... , e_k \\in E $ tal que $ e_1 = e_2 = ... = e_k = e$ para $ k< |V|$, entonces $ e, e_1, e_2, ... , e_k $ son aristas múltiples."
   ]
  },
  {
   "cell_type": "markdown",
   "metadata": {
    "slideshow": {
     "slide_type": "subslide"
    }
   },
   "source": [
    "> Un **grafo simple** es un grafo que no tiene bucles o múltiples aristas. \n",
    "\n",
    "Especificamos un grafo simple por su conjunto de vértices y su conjunto de aristas, tratando el conjunto de aristas como un conjunto de pares de vértices no ordenados y escribiendo $e=u v$ (o $e=v u$ ) para una arista $e$ con puntos finales $u$ y $v$.\n",
    "\n",
    "> Cuando $u$ y $v$ son los puntos finales de una arista, son **adyacentes** y son **vecinos**. Escribimos $u \\leftrightarrow v$ para \" $u$ es adyacente a $v$ \". Es decir, si $ \\{ a, b\\} \\in E $ entonces $a$ y $b$ son vecinos."
   ]
  },
  {
   "cell_type": "markdown",
   "metadata": {
    "slideshow": {
     "slide_type": "subslide"
    }
   },
   "source": [
    "*Ejemplo.* A la izquierda, a continuación, se muestran dos dibujos de un grafo simple. El conjunto de vértices es $\\{u, v, w, x, y\\}$, y el conjunto de aristas es $\\{u v, u w, u x, v x, v w, x w, x y\\}$.\n",
    "\n",
    "<center>\n",
    "<img src='./fig/ejemplo1.png'>\n",
    "\n"
   ]
  },
  {
   "cell_type": "markdown",
   "metadata": {
    "slideshow": {
     "slide_type": "subslide"
    }
   },
   "source": [
    "Los términos \"vértice\" y \"arista\" surgen de la geometría de sólidos. Un cubo tiene vértices y aristas, y estos forman el conjunto de vértices y el conjunto de aristas de un grafo. Se dibuja a la derecha, a continuación, omitiendo los nombres de vértices y aristas.\n",
    "\n",
    "> Un grafo es **finito** si su conjunto de vértices y su conjunto de aristas son finitos. \n",
    "\n",
    "De aquí en adelante consideraremos que todos los grafos que utilicemos son finitos.\n",
    "\n"
   ]
  },
  {
   "cell_type": "markdown",
   "metadata": {
    "slideshow": {
     "slide_type": "subslide"
    }
   },
   "source": [
    "> El **grafo nulo** es el grafo cuyo conjunto de vértices y aristas están vacíos. \n",
    " \n",
    "Extender los teoremas generales al grafo nulo introduce distracciones innecesarias, por lo que lo ignoramos. Todas las afirmaciones y ejercicios deben considerarse solo para grafos con un conjunto de vértices no vacío."
   ]
  },
  {
   "cell_type": "markdown",
   "metadata": {
    "slideshow": {
     "slide_type": "subslide"
    }
   },
   "source": [
    "### Subgrafos"
   ]
  },
  {
   "cell_type": "markdown",
   "metadata": {
    "slideshow": {
     "slide_type": "fragment"
    }
   },
   "source": [
    "\n",
    "\n",
    "Un grafo $H$ se denomina **subgrafo** de un grafo $G$, escrito $H \\subseteq G$, si $V(H) \\subseteq V(G)$ y $E(H) \\subseteq E(G)$. \n",
    "\n",
    "* También decimos que $G$ **contiene** a $H$ como subgrafo. \n",
    "\n",
    "> Si $H \\subseteq G$ y $V(H)$ es un subconjunto propio de $V(G)$ o $E(H)$ es un subconjunto propio de $E(G)$, entonces $H$ es un **subgrafo propio** de $G$. \n",
    "  * Por lo tanto, el grafo $H$ de la figura es un subgrafo del grafo $G$ ; de hecho, $H$ es un subgrafo propio de $G$. \n",
    "\n",
    "> Si un subgrafo de un grafo $G$ tiene el mismo conjunto de vértices que $G$, entonces es un **subgrafo generador** de $G$.\n"
   ]
  },
  {
   "cell_type": "markdown",
   "metadata": {
    "slideshow": {
     "slide_type": "subslide"
    }
   },
   "source": [
    "<center>\n",
    "<img src='./fig/subgrafos.png'>"
   ]
  },
  {
   "cell_type": "markdown",
   "metadata": {
    "slideshow": {
     "slide_type": "subslide"
    }
   },
   "source": [
    "> El subgrafo $F$ de un grafo $G$ se llama **subgrafo inducido** de $G$ si siempre que $u$ y $v$ son vértices de $F$ y $u v$ es una arista de $G$, entonces $u v$ es también una arista de $F$. \n",
    "\n",
    "* Por lo tanto, el grafo $H$ no es un subgrafo inducido del grafo $G$ ya que, por ejemplo, $v, x \\in V(H)$ y $v x \\in E(G)$ pero $v x \\notin E(H)$. \n",
    "  \n",
    "* Por otro lado, el grafo $F$ es un subgrafo inducido de $G$. \n",
    "  \n"
   ]
  },
  {
   "cell_type": "markdown",
   "metadata": {
    "slideshow": {
     "slide_type": "subslide"
    }
   },
   "source": [
    "Si $S$ es un conjunto no vacío de vértices de un grafo $G$, entonces el subgrafo de $G$ inducido por $S$ es el subgrafo inducido con el conjunto de vértices $S$. Este subgrafo inducido se denota por $G[S]$. \n",
    "\n",
    "Para un conjunto no vacío $X$ de aristas, el subgrafo $G[X]$ inducido por $X$ tiene el conjunto de aristas $X$ y consta de todos los vértices que inciden con al menos una arista en $X$. Este subgrafo se denomina subgrafo inducido por aristas de $G$. \n",
    "\n",
    "A veces se utilizan $\\langle S \\rangle _G$ y $\\langle X \\rangle _G$ para $G[S]$ y $G[X]$, respectivamente. \n",
    "* El grafo $F^{\\prime}$ es un subgrafo inducido por aristas de $G$ en esa figura; de hecho, $F^{\\prime}=G\\left[X^{\\prime}\\right]$, donde $X^{\\prime}=\\left\\{\\mathrm{e}, \\mathrm{e}^{\\prime}\\right\\}$.\n",
    "\n"
   ]
  },
  {
   "cell_type": "markdown",
   "metadata": {
    "slideshow": {
     "slide_type": "subslide"
    }
   },
   "source": [
    "Para una arista $e$ de $G$, escribimos $G-e$ para el subgrafo generador de $G$ cuyo conjunto de aristas consiste en todas las aristas de $G$ excepto $e$. \n",
    "\n",
    "> De manera más general, si $X$ es un conjunto de aristas de $G$, entonces $G-X$ es el subgrafo generador de $G$ con $E(G-X)=E(G)-$ $X$. \n",
    "> * Para el grafo $G$ de la figura y $e=v y$, se muestra el subgrafo $G-e$. Si $X=$ $\\left\\{e_1, e_2, \\ldots, e_k\\right\\}$, entonces también escribimos $\\mathrm{G}-X$ como $\\mathrm{G}-e_1-e_2-\\ldots-e_k$."
   ]
  },
  {
   "cell_type": "markdown",
   "metadata": {
    "slideshow": {
     "slide_type": "subslide"
    }
   },
   "source": [
    "Para un vértice $v$ de un grafo no trivial $G$, el subgrafo $G-v$ consiste en todos los vértices de $G$ excepto $v$ y todas las aristas de $G$ excepto aquellas incidentes con $v$. \n",
    "\n",
    "> Para un subconjunto propio $U$ de $V(G)$, el subgrafo $G-U$ tiene como conjunto de vértices $V(G)-U$ y su conjunto de aristas consiste en todas las aristas de $G$ que unen dos vértices en $V(G)-U$. Necesariamente, $G-U$ es un subgrafo inducido de $G$. \n",
    "> * Para $U=\\{u, y\\}$ en el grafo $G$ de la figura, $G-U$ es el subgrafo $F$ que se muestra en esa misma.\n",
    "\n"
   ]
  },
  {
   "cell_type": "markdown",
   "metadata": {
    "slideshow": {
     "slide_type": "fragment"
    }
   },
   "source": [
    "> Si $u$ y $v$ son vértices no adyacentes de un grafo $G$, entonces $e=\\{u,v\\} \\notin E(G)$. Por $G+e$, nos referimos al grafo con el conjunto de vértices $V(G)$ y el conjunto de aristas $E(G) \\cup\\{e\\}$. Por lo tanto, $G$ es un subgrafo generador de $G+e$."
   ]
  },
  {
   "cell_type": "markdown",
   "metadata": {
    "slideshow": {
     "slide_type": "subslide"
    }
   },
   "source": [
    "> **Definición.** El complemento $\\bar{G}$ de un grafo simple $G$ es el grafo simple con conjunto de vértices $V(G)$ definido por $u v \\in E(\\bar{G})$ si y solo si $u v \\notin E(G)$. \n",
    "\n",
    "> **Definición.** Un *clique* (o camarilla) en un grafo es un conjunto de vértices adyacentes por pares, es decir, que tienen aristas entre sí. \n",
    "\n",
    "> **Definición.** Un *conjunto independiente* (o conjunto estable) en un grafo es un conjunto de vértices no adyacentes por pares, es decir que no comparten ninguna arista entre sí.\n",
    "\n"
   ]
  },
  {
   "cell_type": "markdown",
   "metadata": {
    "slideshow": {
     "slide_type": "subslide"
    }
   },
   "source": [
    "\n",
    "*Ejemplo.* Relaciones de conocidos y subgrafos. ¿Cada conjunto de seis personas contiene tres conocidos mutuos o tres desconocidos mutuos? Como el \"conocido\" es simétrico, lo modelamos utilizando un grafo simple con un vértice para cada persona y una arista para cada par de conocidos. La relación de \"no conocidos\" en el mismo conjunto produce otro grafo con el conjunto de aristas \"complementarias\". Introducimos términos para estos conceptos.\n",
    "\n",
    "<center>\n",
    "<img src='./fig/complemento.png'>"
   ]
  },
  {
   "cell_type": "markdown",
   "metadata": {
    "slideshow": {
     "slide_type": "subslide"
    }
   },
   "source": [
    "En el grafo anterior, $\\{u, x, y\\}$ es una camarilla de tamaño 3 y $\\{u, w\\}$ es un conjunto independiente de tamaño 2, y estos son los conjuntos más grandes de este tipo. \n",
    "\n",
    "Estos valores se invierten en el complemento $\\bar{G}$, ya que las camarillas se convierten en conjuntos independientes (y viceversa) bajo complementación. \n",
    "\n",
    "La pregunta del ejemplo es si es cierto que cada grafo de 6 vértices tiene una camarilla de tamaño 3 o un conjunto independiente de tamaño 3. Si eliminamos la arista $u x$ de $G$ obtenemos un grafo de 5 vértices que no tiene camarilla ni conjunto independiente de tamaño 3.\n",
    "\n"
   ]
  },
  {
   "cell_type": "markdown",
   "metadata": {
    "slideshow": {
     "slide_type": "subslide"
    }
   },
   "source": [
    "### Recorridos, senderos y caminos"
   ]
  },
  {
   "cell_type": "markdown",
   "metadata": {
    "slideshow": {
     "slide_type": "fragment"
    }
   },
   "source": [
    "\n",
    "\n",
    "Muchos de los conceptos que aparecen en la teoría de grafos y que investigaremos en detalle más adelante se refieren a diversas formas en las que uno puede \"moverse\" en un grafo. En particular, si pensamos en los vértices de un grafo como ubicaciones y en las aristas como caminos entre ciertos pares de ubicaciones, entonces el grafo puede considerarse como el modelo de una comunidad. Hay una variedad de tipos de viajes que se pueden realizar en la comunidad."
   ]
  },
  {
   "cell_type": "markdown",
   "metadata": {
    "slideshow": {
     "slide_type": "subslide"
    }
   },
   "source": [
    "##### Recorrido\n",
    "\n",
    "Empecemos en algún vértice $u$ de un grafo $G$. Si procedemos desde $u$ a un vecino de $u$ y luego a un vecino de ese vértice y así sucesivamente, hasta que finalmente nos detenemos en un vértice $v$, entonces acabamos de describir un recorrido desde $u$ a $v$ en $G$. \n",
    "> Un **recorrido** (*walk*) $u-v$ $W$ en $G$ es una secuencia de vértices en $G$, que comienza con $u$ y termina en $v$ de manera que los vértices consecutivos en la secuencia son adyacentes, es decir, podemos expresar $W$ como\n",
    "> $$\n",
    "> W=\\left(u=v_0, v_1, \\ldots, v_k=v\\right)\n",
    "> $$\n",
    "> \n",
    "> donde $k \\geq 0$ y $v_i$ y $v_{i+1}$ son adyacentes para $i=0,1,2, \\ldots, k-1$. \n",
    " \n",
    "\n"
   ]
  },
  {
   "cell_type": "markdown",
   "metadata": {
    "slideshow": {
     "slide_type": "subslide"
    }
   },
   "source": [
    "* Se dice que cada vértice $v_i$ $(0 \\leq i \\leq k)$ y cada arista $v_i v_{i+1}(0 \\leq i \\leq k-1)$ se encuentran sobre o pertenecen a $W$. \n",
    "* Nótese que la definición del recorrido $W$ no requiere que los vértices enumerados sean distintos; de hecho, ni siquiera se requiere que $u$ y $v$ sean distintos. \n",
    "  * Sin embargo, cada dos vértices consecutivos en $W$ son distintos ya que son adyacentes. \n",
    "* Si $u=v$, entonces el recorrido $W$ es **cerrado**; mientras que si $u \\neq v$, entonces $W$ es **abierto**. \n",
    "* El número de aristas encontradas en una recorrido (incluyendo múltiples ocurrencias de una arista) se llama **longitud** del recorrido. Por lo tanto, la longitud de $W$ es $k$."
   ]
  },
  {
   "cell_type": "markdown",
   "metadata": {
    "slideshow": {
     "slide_type": "subslide"
    }
   },
   "source": [
    "##### Senderos y caminos\n",
    "\n",
    "> Un **sendero** (*trail*) $u-v$ en un grafo $G$ como un recorrido $u-v$ en el que ninguna arista se recorre más de una vez. Por lo tanto, el recorrido $x-$ $w$ $W$ en (1.2) no es un sendero $x-w$ ya que la arista wy se repite. \n",
    "> * Aunque la definición de un sendero estipula que ninguna arista puede repetirse, no se impone tal condición a los vértices.\n",
    "\n",
    "> Un recorrido $u-v$ en un grafo en el que no se repiten vértices es un **camino** (*path*) $u-v$. \n",
    "> * Si ningún vértice en un camino se repite (lo que produce un camino), entonces ninguna arista se repite tampoco. Por lo tanto, todo camino es un sendero.\n",
    "\n"
   ]
  },
  {
   "cell_type": "markdown",
   "metadata": {
    "slideshow": {
     "slide_type": "subslide"
    }
   },
   "source": [
    "Si un recorrido $u-v$ en un grafo es seguido por un recorrido $v-w$, entonces resulta un recorrido $u-w$.\n",
    "\n",
    "Un camino $u-v$ seguido por un camino $v-w$ es un recorrido $u-w$ $W$ pero no necesariamente un camino $u-w$, ya que los vértices en $W$ pueden repetirse. \n",
    "\n",
    "Si bien no todo camino es un recorrido, si un grafo contiene un recorrido $u-v$, entonces también debe contener un camino $u-v$. \n",
    "\n"
   ]
  },
  {
   "cell_type": "markdown",
   "metadata": {
    "slideshow": {
     "slide_type": "subslide"
    }
   },
   "source": [
    "> ***Teorema 1.1***. Si un grafo $G$ contiene un recorrido $u-v$ de longitud $l$, entonces $G$ contiene un camino $u-v$ de longitud como máximo $l$.\n",
    "> \n",
    "> * *Demostración*. Entre todos los recorridos $u-v$ en $G$, sea $P=(u=u_0, u_1, \\ldots, u_k=v)$ un recorrido $u-v$ de longitud mínima $k$. Por lo tanto, $k \\leq l$. Afirmamos que $P$ es un camino $u-v$. Supongamos, por el contrario, que este no es el caso. Entonces algún vértice de $G$ debe repetirse en $P$, digamos $u_i=u_j$ para algún $i$ y $j$ con $0 \\leq i<j \\leq k$. Si luego eliminamos los vértices $u_{i+1}, u_{i+2}, \\ldots, u_j$ de $P$, llegamos al recorrido $u-v : \\left(u=u_0, u_1, \\ldots, u_{i-1}, u_i=u_j, u_{j+1}, \\ldots, u_k=v\\right)$ cuya longitud es menor que $k$, lo cual es imposible. Por lo tanto, como se afirma, $P$ es un camino $u-v$ de longitud $k \\leq l$."
   ]
  },
  {
   "cell_type": "markdown",
   "metadata": {
    "slideshow": {
     "slide_type": "subslide"
    }
   },
   "source": [
    "### Circuitos y ciclos"
   ]
  },
  {
   "cell_type": "markdown",
   "metadata": {
    "slideshow": {
     "slide_type": "fragment"
    }
   },
   "source": [
    "\n",
    "\n",
    "> Un **circuito** en un grafo $G$ es un sendero cerrado de longitud 3 o más. \n",
    "> * Por lo tanto, un circuito comienza y termina en el mismo vértice pero no repite ninguna arista. \n",
    "> * Los vértices se pueden repetir, además del primero y el último. \n",
    "\n",
    "> Un circuito que no repite ningún vértice, excepto el primero y el último, es un **ciclo**. \n",
    "> * Un $k$-ciclo es un ciclo de longitud $k$. \n"
   ]
  },
  {
   "cell_type": "markdown",
   "metadata": {
    "slideshow": {
     "slide_type": "subslide"
    }
   },
   "source": [
    "Los subgrafos $G_1, G_2, G_3, G_4$ del grafo $G$ son un sendero, un camino, un circuito y un ciclo del grafo G, respectivamente.\n",
    "<center>\n",
    "<img src='./fig/ciclos.png'>"
   ]
  },
  {
   "cell_type": "markdown",
   "metadata": {
    "slideshow": {
     "slide_type": "slide"
    }
   },
   "source": [
    "## 1.2. Conectividad\n",
    "\n",
    "> $u,v \\in E $ están **conectados** si hay algún camino $u-v$ en $G$; no significa que $u$ y $v$ estén unidos por una arista. \n",
    "> * Por supuesto, si $ \\{u,v\\} \\in E$, entonces $u$ también está conectado a $v$. \n",
    "\n",
    "\n",
    "> Un grafo $G$ es **conexo** si cualquier pareja de vértices de $G$ están conectados, es decir, si $G$ contiene un camino $u-v$ para cada par $u, v \\in V(G)$. \n",
    "> * Como cada vértice está conexo consigo mismo, el grafo trivial es conexo.\n",
    "\n",
    "\n",
    "\n"
   ]
  },
  {
   "cell_type": "markdown",
   "metadata": {
    "slideshow": {
     "slide_type": "subslide"
    }
   },
   "source": [
    "> Un grafo $G$ que no es conexo se llama **desconectado**. \n",
    "\n",
    "\n",
    "> Un subgrafo conexo de $G$ que no es un subgrafo propio de ningún otro subgrafo conexo de $G$ es un **componente** de $G$. \n",
    ">  * El número de componentes de un grafo $G$ se denota por $k(G)$. \n",
    ">  * Por lo tanto, un grafo $G$ es conexo si y solo si $k(G)=1$. \n",
    "\n",
    "\n",
    "Mientras que el grafo $G$ de la figura anterior es conexo, el grafo $H$ de la figura siguiente es desconexo \n",
    "* no hay un camino $s-w$ en $H$. \n",
    "* Tampoco hay un camino $x-z$. \n",
    "* El grafo $H$ tiene tres componentes, a saber, $H_1, H_2$ y $H_3$ y, por lo tanto, $k(H)=3$.\n"
   ]
  },
  {
   "cell_type": "markdown",
   "metadata": {
    "slideshow": {
     "slide_type": "subslide"
    }
   },
   "source": [
    "<center>\n",
    "<img src='./fig/desconectado.png'>"
   ]
  },
  {
   "cell_type": "markdown",
   "metadata": {
    "slideshow": {
     "slide_type": "subslide"
    }
   },
   "source": [
    "#### Clases de equivalencia\n",
    "\n",
    "Para los subgrafos $G_1, G_2, \\ldots, G_k, k \\geq 2$, de un grafo $G$, con conjuntos de vértices mutuamente disjuntos, escribimos $G=G_1 \\cup G_2 \\cup \\ldots \\cup G_k$ si cada vértice y cada arista de $G$ pertenecen exactamente a uno de estos subgrafos. \n",
    "\n",
    "En este caso, $G$ es la unión de los grafos $G_1, G_2, \\ldots, G_k$. En particular, escribimos $G=G_1 \\cup G_2 \\cup \\ldots \\cup G_k$ si $G_1, G_2$, $\\ldots, G_k$ son componentes de $G$. Es decir, todo grafo es la unión de sus componentes. "
   ]
  },
  {
   "cell_type": "markdown",
   "metadata": {
    "slideshow": {
     "slide_type": "subslide"
    }
   },
   "source": [
    "> ***Teorema 1.2***. Sea $R$ la relación definida en el conjunto de vértices de un grafo $G$ por $u$ $R v$, donde $u, v \\in V(G)$, si $u$ está conexo con $v$, es decir, si $G$ contiene un camino $u-v$. Entonces $R$ es una relación de equivalencia.\n",
    "> * *Demostración*. Es inmediato que $R$ es reflexivo y simétrico. Por lo tanto, sólo queda demostrar que $R$ es transitivo. Sea $u, v, w \\in V(G)$ tal que $u R v$ y $v R w$. Por lo tanto, $G$ contiene un camino $u-v$ $P^{\\prime}$ y un camino $v-w$ $P^{\\prime \\prime}$. Como hemos visto antes, seguir $P^{\\prime}$ por $P^{\\prime \\prime}$ produce un recorrido $u-w$ $W$. Por el Teorema 1.1, $G$ contiene un camino $u$ - $w$ y por lo tanto $u R w$.\n",
    "\n",
    "\n"
   ]
  },
  {
   "cell_type": "markdown",
   "metadata": {
    "slideshow": {
     "slide_type": "subslide"
    }
   },
   "source": [
    "La relación de equivalencia descrita en el Teorema 1.2 produce una partición del conjunto de vértices de cada grafo $G$ en clases de equivalencia. El subgrafo de $G$ inducido por los vértices en una clase de equivalencia es un componente de $G$. \n",
    "\n",
    "\n",
    "Cada vértice y cada arista de un grafo $G$ pertenecen exactamente a un componente de $G$. Esto implica que si $G$ es un grafo desconectado y $u$ y $v$ son vértices que pertenecen a diferentes componentes de $G$, entonces $ \\{u,v\\} \\notin E(G)$."
   ]
  },
  {
   "cell_type": "markdown",
   "metadata": {
    "slideshow": {
     "slide_type": "subslide"
    }
   },
   "source": [
    "\n",
    "\n",
    "> ***Teorema 1.3.*** Sea $G$ un grafo de orden 3 o más. Si $G$ contiene dos vértices distintos $u$ y $v$ tales que $G-u$ y $G-v$ son conexos, entonces $G$ mismo es conexo.\n",
    ">\n",
    ">   *Demostración*. Supóngase que $G$ contiene vértices distintos $u$ y $v$ tales que $G-u$ y $G$ $-v$ son conexos. Para demostrar que $G$ mismo es conexo, demostramos que cada par de vértices de $G$ son conexos. Sean $x$ e $y$ dos vértices de $G$. Consideremos dos casos.\n",
    "> \n",
    "> *Caso 1.* $\\{x, y\\} \\neq\\{u, v\\}$, digamos $u \\notin\\{x, y\\}$. Entonces $x$ e $y$ son vértices en $G-u$. Como $G-u$ es conexo, hay un camino $x-y$ $P$ en $G-u$. Por lo tanto, $P$ está en $G$ y $x$ e $y$ están conexos en $G$.\n",
    ">\n",
    "> *Caso 2.* $\\{x, y\\}=\\{u, v\\}$, digamos $x=u$ e $y=v$. Demostramos que $u$ y $v$ están conexos en $G$. Como el orden de $G$ es al menos 3 , hay un vértice $w$ en $G$ tal que $w \\neq u, v$. Como $G-v$ está conexo, $G-v$ contiene un camino $u-w$ $P^{\\prime}$. Además, como $G-u$ está conexo, $G-u$ contiene un camino $w-v$ $P^{\\prime \\prime}$. Por lo tanto, $P^{\\prime}$ seguido de $P^{\\prime \\prime}$ produce un recorrido $u-v$. Según el Teorema 1.1, $G$ contiene un camino $u-v$ y, por lo tanto, $u$ y $v$ están conectados en $G$.\n",
    "\n"
   ]
  },
  {
   "cell_type": "markdown",
   "metadata": {
    "slideshow": {
     "slide_type": "subslide"
    }
   },
   "source": [
    "Si $G$ es el grafo desconectado que consta de dos vértices $u$ y $v$ y no tiene aristas, entonces los subgrafos $G-u$ y $G-v$ están (trivialmente) conectados. Por lo tanto, en el Teorema 1.3, es esencial que el orden del grafo en consideración sea al menos 3."
   ]
  },
  {
   "cell_type": "markdown",
   "metadata": {
    "slideshow": {
     "slide_type": "subslide"
    }
   },
   "source": [
    "#### Distancia\n",
    "\n",
    "> La **distancia** entre $u$ y $v$ es la longitud más pequeña de cualquier camino $u-v$ en $G$ y se denota por $d_G(u, v)$ o simplemente $d(u, v)$ si el grafo $G$ en consideración es claro. \n",
    "> * Por lo tanto, si $d(u, v)=k$, entonces existe un camino $u-v$ $ P=\\left(u=v_0, v_1, \\ldots, v_k=v\\right)$ de longitud $k$ en $G$ pero no existe ningún camino $u-v$ de longitud menor en $G$. \n",
    "\n",
    "\n"
   ]
  },
  {
   "cell_type": "markdown",
   "metadata": {
    "slideshow": {
     "slide_type": "subslide"
    }
   },
   "source": [
    "Un camino $u-v$ de longitud $d(u, v)$ se llama **geodésica $u-v$**. De hecho, puesto que el camino $P$  es una geodésica $u-v$, no sólo es $d(u, v)=d\\left(u, v_k\\right)=k$ sino $d\\left(u, v_i\\right)=i$ para cada $i$ con $0 \\leq i$ $\\leq k$. \n",
    "\n",
    "En general, $0 \\leq d(u, v) \\leq n-1$ para cada dos vértices $u$ y $v$ (distintos o no) en un grafo conexo de orden $n$. \n",
    "\n",
    "Si $G$ está desconectado, entonces hay algunos pares $x, y$ de vértices distintos de $G$ tales que no hay un camino $x-y$ en $G$. En este caso, $d(x, y)$ no está definido."
   ]
  },
  {
   "cell_type": "markdown",
   "metadata": {
    "slideshow": {
     "slide_type": "subslide"
    }
   },
   "source": [
    "##### Diámetro\n",
    "\n",
    "> La mayor distancia entre dos vértices cualesquiera de un grafo conexo $G$ se denomina **diámetro** de $G$ y se denota por diam $(G)$. \n",
    "\n",
    "\n",
    "Si $G$ es un grafo conexo tal que $d(u, v)=\\operatorname{diam}(G)$ y $w \\neq u, v$, entonces ninguna geodésica $u-w$ puede contener a $v$, pues de lo contrario $d(u, w)>d(u, v)=\\operatorname{diam}(G)$, lo cual es imposible.\n"
   ]
  },
  {
   "cell_type": "markdown",
   "metadata": {
    "slideshow": {
     "slide_type": "subslide"
    }
   },
   "source": [
    "\n",
    "Regresemos al Teorema 1.3, donde demostramos que si un grafo $G$ de orden 3 contiene dos vértices distintos $u$ y $v$ tales que $G-u$ y $G-v$ son conexos, entonces $G$ es conexo. En realidad, el inverso de este teorema también es cierto; es decir, si $G$ es un grafo conexo de orden al menos 3, entonces $G$ debe contener dos vértices $u$ y $v$ tales que $G-u$ y $G-v$ sean conexos. Ahora estamos en condiciones de demostrar también este teorema."
   ]
  },
  {
   "cell_type": "markdown",
   "metadata": {
    "slideshow": {
     "slide_type": "subslide"
    }
   },
   "source": [
    "\n",
    "\n",
    "> ***Teorema 1.4.*** Si $G$ es un grafo conexo de orden 3 o más, entonces $G$ contiene dos vértices distintos $u$ y $v$ tales que $G-u$ y $G-v$ son conexos.\n",
    ">\n",
    ">   *Demostración*. Sean $u$ y $v$ dos vértices de $G$ tales que $d(u, v)=\\operatorname{diam}(G)$. Afirmamos que $G-u$ y $G-v$ son ambos conexos. Supongamos que este no es el caso. Entonces al menos uno de $G-u$ y $G-v$ está desconectado, digamos que $G-v$ está desconectado. Por lo tanto, $G-v$ contiene dos vértices $x$ e $y$ que no están conexos en $G-v$. Sin embargo, como $G$ está conexo, los vértices $u$ y $x$ están conexos en $G$, al igual que $u$ e $y$.\n",
    "> \n",
    ">   Sea $P^{\\prime}$ una geodésica $x-u$ en $G$ y sea $P^{\\prime \\prime}$ una geodésica $u-y$ en $G$. Como $d_G(u, v)=\\operatorname{diam}(G)$, el vértice $v$ no puede estar ni en $P^{\\prime}$ ni en $P^{\\prime \\prime}$, por lo que $P^{\\prime}$ y $P^{\\prime \\prime}$ son caminos en $G-v$. El camino $P^{\\prime}$ seguido de $P^{\\prime \\prime}$ produce un recorrido $x-y$ $W$ en $G-v$.\n",
    ">\n",
    ">   Por el Teorema 1.1, $G-v$ contiene un camino $x-y$ y por lo tanto $x$ e $y$ son conexos en $G$ $-v$. Esto es una contradicción."
   ]
  },
  {
   "cell_type": "markdown",
   "metadata": {
    "slideshow": {
     "slide_type": "subslide"
    }
   },
   "source": [
    "\n",
    "El Teorema 1.4 da una propiedad que todo grafo conexo de orden al menos 3 debe tener. Es decir, el Teorema 1.4 proporciona una condición necesaria para que un grafo sea conexo. En realidad, el Teorema 1.4 es verdadero incluso si el orden de $G$ es 2, pero enunciamos el Teorema 1.4 como lo hicimos para poder combinar los Teoremas 1.8 y 1.9 en una única condición necesaria y suficiente para que un grafo sea conexo, que enunciamos a continuación.\n",
    "\n",
    "> ***Teorema 1.5.*** Sea $G$ un grafo de orden 3 o más. Entonces $G$ es conexo si y solo si $G$ contiene dos vértices distintos $u$ y $v$ tales que $G-u$ y $G-v$ son conexos."
   ]
  },
  {
   "cell_type": "markdown",
   "metadata": {
    "slideshow": {
     "slide_type": "slide"
    }
   },
   "source": [
    "## 1.3. Clases comunes de grafos"
   ]
  },
  {
   "cell_type": "markdown",
   "metadata": {
    "slideshow": {
     "slide_type": "subslide"
    }
   },
   "source": [
    "### Grafos completos"
   ]
  },
  {
   "cell_type": "markdown",
   "metadata": {
    "slideshow": {
     "slide_type": "subslide"
    }
   },
   "source": [
    "> Un grafo $G$ es **completo** si cada dos vértices distintos de $G$ son adyacentes.\n",
    "> * Un grafo completo de orden $n$ se denota por $ K_n $.\n",
    "\n",
    "$K_n$ tiene el tamaño máximo posible para un grafo con $n$ vértices. Como cada dos vértices distintos de $K_n$ están unidos por una arista, el número de pares de vértices en $K_n$ es $\\binom{n}{2}$ y, por lo tanto, el tamaño de $K_n$ es $\\binom{n}{2}=\\frac{n(n-1)}{2}$.\n",
    "\n"
   ]
  },
  {
   "cell_type": "markdown",
   "metadata": {
    "slideshow": {
     "slide_type": "subslide"
    }
   },
   "source": [
    "<center>\n",
    "<img src='./fig/completos.png'>"
   ]
  },
  {
   "cell_type": "markdown",
   "metadata": {
    "slideshow": {
     "slide_type": "subslide"
    }
   },
   "source": [
    "### Complemento"
   ]
  },
  {
   "cell_type": "markdown",
   "metadata": {
    "slideshow": {
     "slide_type": "fragment"
    }
   },
   "source": [
    "> El **complemento** $\\bar{G}$ de un grafo $G$ es aquel grafo cuyo conjunto de vértices es $V(G)$ y tal que para cada par $u, v$ de vértices distintos de $G, u v$ es una arista de $\\bar{G}$ si y solo si $u v$ no es una arista de $G$. \n",
    "> * Obsérvese que si $G$ es un grafo de orden $n$ y tamaño $m$, entonces $\\bar{G}$ es un grafo de orden $n$ y tamaño $\\binom{n}{2}-m$. \n",
    " \n",
    "El grafo $\\bar{K}_n$ tiene entonces $n$ vértices y ninguna arista; se le llama **grafo vacío** de orden $n$. Por lo tanto, los grafos vacíos tienen conjuntos de aristas vacíos. \n",
    "\n"
   ]
  },
  {
   "cell_type": "markdown",
   "metadata": {
    "slideshow": {
     "slide_type": "subslide"
    }
   },
   "source": [
    "<center>\n",
    "<img src='./fig/complemento.png'>"
   ]
  },
  {
   "cell_type": "markdown",
   "metadata": {
    "slideshow": {
     "slide_type": "subslide"
    }
   },
   "source": [
    "> ***Teorema 1.6.*** Si $G$ es un grafo desconexo, entonces $\\bar{G}$ es conexo.\n",
    "> * *Demostración*. Como $G$ es desconexo, $G$ contiene dos o más componentes. Sean $u$ y $v$ dos vértices de $\\bar{G}$. Demostramos que $u$ y $v$ son conexos en $\\bar{G}$. \n",
    "> \n",
    ">   * Si $u$ y $v$ pertenecen a diferentes componentes de $G$, entonces $u$ y $v$ no son adyacentes en $G$ y, por lo tanto, $u$ y $v$ son adyacentes en $\\bar{G}$. Por lo tanto, $\\bar{G}$ contiene un camino $u-v$ de longitud 1. \n",
    "> \n",
    ">   * Supongamos a continuación que $u$ y $v$ pertenecen al mismo componente de $G$. Sea $w$ un vértice de $G$ que pertenece a un componente diferente de $G$. Entonces $u w, v w \\notin E(G)$, lo que implica que $u w, v w \\in E(\\bar{G})$ y, por lo tanto, $(u, w, v)$ es un camino $u-v$ en $\\bar{G}$."
   ]
  },
  {
   "cell_type": "markdown",
   "metadata": {
    "slideshow": {
     "slide_type": "subslide"
    }
   },
   "source": [
    "### Bipartición"
   ]
  },
  {
   "cell_type": "markdown",
   "metadata": {
    "slideshow": {
     "slide_type": "fragment"
    }
   },
   "source": [
    "> Un grafo $G$ es un **grafo bipartito** si $V(G)$ se puede dividir en dos subconjuntos $U$ y $W$, llamados conjuntos partitos, de modo que cada arista de $G$ une un vértice de $U$ y un vértice de W. \n",
    "\n",
    "No siempre es fácil saber a simple vista si un grafo es bipartito. Por ejemplo, los grafos conexos $G_1$ y $G_2$ de la figura son bipartitos, ya que cada arista de $G_1$ une un vértice de $U_1=\\left\\{u_1, x_1, y_1\\right\\}$ y un vértice de $W_1=\\left\\{v_1, w_1\\right\\}$, mientras que cada arista de $G_2$ une un vértice de $U_2=\\left\\{u_2, w_2, y_2\\right\\}$ y un vértice de $W_2=$ $\\left\\{v_2, x_2, z_2\\right\\}$. \n"
   ]
  },
  {
   "cell_type": "markdown",
   "metadata": {
    "slideshow": {
     "slide_type": "subslide"
    }
   },
   "source": [
    "\n",
    "<center>\n",
    "<img src='./fig/bipartita.png'>\n"
   ]
  },
  {
   "cell_type": "markdown",
   "metadata": {
    "slideshow": {
     "slide_type": "subslide"
    }
   },
   "source": [
    "No todos los grafos son bipartitos. Por ejemplo, considere el ciclo de 5 $C_5$ en la figura. Si $C_5$ fuera bipartito, entonces su conjunto de vértices podría dividirse en dos conjuntos $U$ y $W$ de modo que cada arista de $C_5$ uniera un vértice de $U$ y un vértice de $W$. \n",
    "* El vértice $v_1$ debe pertenecer a $U$ o $W$, digamos $v_1 \\in U$. \n",
    "* Como $v_1 v_2$ es una arista de $C_5$, se deduce que $v_2 \\in W$. \n",
    "* Como $v_2 v_3$ es una arista de $C_5$, se sigue que $v_3 \\in U$. \n",
    "* De manera similar, $v_4 \\in W$ y $v_5 \\in U$. \n",
    "* Sin embargo, $v_1, v_5 \\in U$ y $v_1 v_5$ son una arista de $C_5$. Esto es una contradicción. \n",
    "* Por lo tanto, $C_5$ no es bipartito. \n"
   ]
  },
  {
   "cell_type": "markdown",
   "metadata": {
    "slideshow": {
     "slide_type": "subslide"
    }
   },
   "source": [
    "<center>\n",
    "<img src='./fig/C_5.png'>"
   ]
  },
  {
   "cell_type": "markdown",
   "metadata": {
    "slideshow": {
     "slide_type": "fragment"
    }
   },
   "source": [
    "De hecho, ningún ciclo impar es bipartito. De hecho, cualquier grafo que contenga un ciclo impar no es bipartito. La inversa también es cierta, lo que puede resultar sorprendente."
   ]
  },
  {
   "cell_type": "markdown",
   "metadata": {
    "slideshow": {
     "slide_type": "subslide"
    }
   },
   "source": [
    "\n",
    "\n",
    "> ***Teorema 1.7.*** Un grafo no trivial $G$ es un grafo bipartito si y solo si $G$ no contiene ciclos impares.\n",
    "> *Demostración*. Ya hemos visto que si un grafo contiene un ciclo impar, entonces es no bipartito. Ahora, sea $G$ un grafo no trivial que no tiene ciclos impares, demostremos entonces que $G$ es bipartito. \n",
    "> \n",
    ">   Sea $u$ cualquier vértice de $G$, sea $U$ formado por todos los vértices de $G$ cuya distancia a $u$ es par y sea $W$ formado por todos los vértices cuya distancia a $u$ es impar. Por lo tanto, $\\{U, W\\}$ es una partición de $V(G)$. Como $d(u, u)=0$, se sigue que $u \\in U$. Afirmamos que cada arista de $G$ une un vértice de $U$ y un vértice de $W$. \n",
    "> \n",
    ">   Supongamos, que existen dos vértices adyacentes en $U$ o dos vértices adyacentes en $W$. Como estas dos situaciones son similares, supondremos que hay vértices $v$ y $w$ en $W$ tales que $v w \\in E(G)$. Como $d(u, v)$ y $d(u, w )$ son impares, $d(u, v)=2 s+1$ y $d(u, w)=2 t+1$ para enteros no negativos $s$ y $t$. Sea $P^{\\prime}=\\left(u=v_0, v_1, \\ldots, v_{2 s+1}=v\\right)$ una geodésica $u-v$ y sea $P^{\\prime \\prime}=\\left(u=w_0\\right.$, $w_1, \\ldots, w_{2 t+1}=w$ ) una geodésica $u-w$ en $G$. \n",
    "> "
   ]
  },
  {
   "cell_type": "markdown",
   "metadata": {
    "slideshow": {
     "slide_type": "subslide"
    }
   },
   "source": [
    ">   Ciertamente, $P^{\\prime}$ y $P^{\\prime \\prime}$ tienen en común su vértice inicial $u$ pero pueden tener otros vértices en común también. Entre los vértices que $P^{\\prime}$ y $P^{\\prime \\prime}$ tienen en común, sea $x$ el último vértice. Quizás $x$ $=u$. En cualquier caso, $x=v_i$ para algún entero $i \\geq 0$. Por lo tanto $d\\left(u, v_i\\right)=i$. Como $x$ está en $P^{\\prime \\prime}$ y $w_i$ es el único vértice de $P^{\\prime \\prime}$ cuya distancia a $u$ es $i$, se deduce que $x=w_i$. Por lo tanto $x=v_i=w_i$. \n",
    "> \n",
    ">   Sin embargo, $C=\\left(v_i, v_{i+1}, \\ldots, v_{2 s+1}, w_{2 t+1}, w_{2 t}, \\ldots, w_i=v_i\\right)$ es un ciclo de longitud $ [(2 s+1)-i]+[(2 t+1)-i]+1=2 s+2 t-2 i+3=2(s+t-i+1)+1 $ y por lo tanto $C$ es un ciclo impar, lo cual es una contradicción."
   ]
  },
  {
   "cell_type": "markdown",
   "metadata": {
    "slideshow": {
     "slide_type": "subslide"
    }
   },
   "source": [
    "> Si $G$ es un grafo bipartito, $V(G)$ se puede dividir en dos subconjuntos $U$ y $W$, esto no significa que cada vértice de $U$ sea adyacente a cada vértice de $W$. Si esto sucede, entonces llamamos a $G$ un **grafo bipartito completo**. \n",
    "\n",
    "* Un grafo bipartito completo con $s = |U|$ y $t = |W|$ se denota por $K_{s, t}$ o $K_{t, s}$. \n",
    "\n",
    "* Si $s=1$ o $t=1$, entonces $K_{s, t}$ es una **estrella**. \n",
    "\n"
   ]
  },
  {
   "cell_type": "markdown",
   "metadata": {
    "slideshow": {
     "slide_type": "subslide"
    }
   },
   "source": [
    "<center>\n",
    "<img src='./fig/bip_completos.png'>"
   ]
  },
  {
   "cell_type": "markdown",
   "metadata": {
    "slideshow": {
     "slide_type": "subslide"
    }
   },
   "source": [
    "### k-partición"
   ]
  },
  {
   "cell_type": "markdown",
   "metadata": {
    "slideshow": {
     "slide_type": "fragment"
    }
   },
   "source": [
    "Los grafos bipartitos pertenecen a una clase más general de grafos. \n",
    "\n",
    "> Un grafo $G$ es un **grafo $k$-partito** si $V(G)$ se puede dividir en $k$ subconjuntos $V_1, V_2, \\ldots, V_k$ (de nuevo llamados conjuntos partitos) de manera que si $u v$ es una arista de $G$, entonces $u$ y $v$ pertenecen a diferentes conjuntos partitos. \n",
    "> * Si, además, cada par de vértices en diferentes conjuntos partitos están unidos por una arista, entonces $G$ es un **grafo $k$-partito completo**. \n",
    ">   * Si $\\left|V_i\\right|=n_i$ para $1 \\leq i \\leq k$, entonces denotamos este grafo $k$-partito completo por $K_{n 1, n 2, \\ldots, n k}$. \n",
    ">   * Los grafos $k$-partitos completos también se conocen como grafos multipartitos completos. \n",
    ">   * Si $n_i=1$ para cada $i(1 \\leq i \\leq k)$, entonces $K_{n 1, n 2, \\ldots, n k}$ es el grafo completo $K_k$. "
   ]
  },
  {
   "cell_type": "markdown",
   "metadata": {
    "slideshow": {
     "slide_type": "subslide"
    }
   },
   "source": [
    "<center>\n",
    "<img src='./fig/k-partidos.png'>"
   ]
  },
  {
   "cell_type": "markdown",
   "metadata": {
    "slideshow": {
     "slide_type": "subslide"
    }
   },
   "source": [
    "### Unir grafos"
   ]
  },
  {
   "cell_type": "markdown",
   "metadata": {
    "slideshow": {
     "slide_type": "fragment"
    }
   },
   "source": [
    "Existen varias maneras de producir un nuevo grafo a partir de un par de grafos dado. \n",
    "\n",
    "> Para dos grafos disjuntos en vértices $G$ y $H$, ya hemos mencionado la **unión** $G$ $\\cup H$ de $G$ y $H$ como ese grafo (desconectado) con un conjunto de vértices $V(G) \\cup V(H)$ y un conjunto de aristas $E(G) \\cup E(H)$. \n",
    "\n",
    "> La **conjunción** $G+H$ consta de $G \\cup H$ y todas las aristas que unen un vértice de $G$ y un vértice de $H$. "
   ]
  },
  {
   "cell_type": "markdown",
   "metadata": {
    "slideshow": {
     "slide_type": "subslide"
    }
   },
   "source": [
    "\n",
    "<center>\n",
    "<img src='./fig/join.png'>"
   ]
  },
  {
   "cell_type": "markdown",
   "metadata": {
    "slideshow": {
     "slide_type": "subslide"
    }
   },
   "source": [
    "> Para dos grafos $G$ y $H$, el **producto cartesiano** $G \\times H$ tiene el conjunto de vértices $V(G \\times$ $H)=V(G) \\times V(H)$, es decir, cada vértice de $G \\times H$ es un par ordenado $(u, v)$, donde $u \\in V(G)$ y $v \\in V(H)$.  El producto cartesiano de $G$ y $H$ también se denota a menudo por $G$ $\\square H$. Dos vértices distintos $(u, v)$ y $(x, y)$ son adyacentes en $G \\times H$ si (1) $u=x$ y $v y \\in E(H)$ o (2) $v=y$ y $u x \\in E(G)$. "
   ]
  },
  {
   "cell_type": "markdown",
   "metadata": {
    "slideshow": {
     "slide_type": "subslide"
    }
   },
   "source": [
    "<center>\n",
    "<img src='./fig/cartesiano.png'>"
   ]
  },
  {
   "cell_type": "markdown",
   "metadata": {
    "slideshow": {
     "slide_type": "subslide"
    }
   },
   "source": [
    "* Nótese que $K_2 \\times K_2$ es el 4-ciclo $C_4$. \n",
    "* El grafo $C_4 \\times K_2$ se suele denotar por $Q_3$ y se llama 3-cubo. \n",
    "* De manera general, definimos $Q_1$ como $K_2$ y para $n \\geq 2$, definimos $Q_n$ como $Q_{n-1} \\times K_2$. \n",
    "* Los grafos $Q_n$ se denominan entonces **$n$-cubos** o **hipercubos**. "
   ]
  },
  {
   "cell_type": "markdown",
   "metadata": {
    "slideshow": {
     "slide_type": "subslide"
    }
   },
   "source": [
    "<center>\n",
    "<img src='./fig/n-cubos.png'>"
   ]
  },
  {
   "cell_type": "markdown",
   "metadata": {
    "slideshow": {
     "slide_type": "slide"
    }
   },
   "source": [
    "## 1.4. Multigrafos y digrafos"
   ]
  },
  {
   "cell_type": "markdown",
   "metadata": {
    "slideshow": {
     "slide_type": "subslide"
    }
   },
   "source": [
    "### Multigrafo"
   ]
  },
  {
   "cell_type": "markdown",
   "metadata": {
    "slideshow": {
     "slide_type": "fragment"
    }
   },
   "source": [
    "> Un **multigrafo** $M$ consiste en un conjunto finito no vacío $V$ de vértices y un conjunto $E$ de aristas, donde cada dos vértices de $M$ están unidos por un número finito de aristas (posiblemente cero). \n",
    "> * Si dos o más aristas unen el mismo par de vértices (distintos), entonces estas aristas se llaman aristas paralelas. \n",
    "\n",
    "> En un **pseudografo**, no solo se permiten aristas paralelas, sino que también se permite que una arista una un vértice consigo misma. \n",
    "> * Tal arista se llama **bucle**. Si un bucle $e$ une un vértice $v$ consigo mismo, entonces se dice que $e$ es un bucle en $v$. \n",
    "> * Puede haber cualquier número finito de bucles en el mismo vértice en un pseudografo. "
   ]
  },
  {
   "cell_type": "markdown",
   "metadata": {
    "slideshow": {
     "slide_type": "subslide"
    }
   },
   "source": [
    "En la figura, $M_1$ y $M_2$ son multigrafos, $M_3$ es un pseudografo y $M_4$ es un grafo. De hecho, $M_4$ es un multigrafo y los cuatro son pseudografos."
   ]
  },
  {
   "cell_type": "markdown",
   "metadata": {
    "slideshow": {
     "slide_type": "subslide"
    }
   },
   "source": [
    "<center>\n",
    "<img src='./fig/multigrafos.png'>"
   ]
  },
  {
   "cell_type": "markdown",
   "metadata": {
    "slideshow": {
     "slide_type": "subslide"
    }
   },
   "source": [
    "### Digrafo"
   ]
  },
  {
   "cell_type": "markdown",
   "metadata": {
    "slideshow": {
     "slide_type": "fragment"
    }
   },
   "source": [
    "> Un **dígrafo** (o **grafo dirigido**) $D$ es un conjunto finito no vacío $V$ de objetos llamados vértices junto con un conjunto $E$ de pares ordenados de vértices distintos. \n",
    "> * Los elementos de $E$ se llaman **aristas dirigidas** o **arcos**. \n",
    ">   * Si $(u, v)$ es una arista dirigida, entonces lo indicamos en un diagrama que representa a $D$ dibujando un segmento de línea o curva dirigida desde $u$ hasta $v$. \n",
    "\n",
    "\n"
   ]
  },
  {
   "cell_type": "markdown",
   "metadata": {
    "slideshow": {
     "slide_type": "subslide"
    }
   },
   "source": [
    "* Entonces se dice que $u$ es adyacente a $v$ y $v$ es adyacente a $u$. También se dice que los vértices $u$ y $v$ son incidentes con la arista dirigida $(u, v)$. \n",
    "* Los arcos $(u, v)$ y $(v, u)$ pueden estar presentes en algún grafo dirigido. \n",
    "* Si, en la definición de dígrafo, para cada par $u, v$ de vértices distintos, como máximo uno de $(u, v)$ y $(v, u)$ es una arista dirigida, entonces el dígrafo resultante es un **grafo orientado**. \n",
    "* De este modo, un grafo orientado $D$ se obtiene asignando una dirección a cada arista de algún grafo $G$. \n",
    "* El dígrafo $D$ también se denomina orientación de $G$. "
   ]
  },
  {
   "cell_type": "markdown",
   "metadata": {
    "slideshow": {
     "slide_type": "subslide"
    }
   },
   "source": [
    "La figura muestra dos dígrafos $D_1$ y $D_2$, donde $D_2$ es un grafo orientado pero $D_1$ no lo es."
   ]
  },
  {
   "cell_type": "markdown",
   "metadata": {},
   "source": [
    "<center>\n",
    "<img src='./fig/digrafos.png'>"
   ]
  },
  {
   "cell_type": "markdown",
   "metadata": {
    "slideshow": {
     "slide_type": "slide"
    }
   },
   "source": [
    "# Fin de la unidad 1"
   ]
  }
 ],
 "metadata": {
  "kernelspec": {
   "display_name": "base",
   "language": "python",
   "name": "python3"
  },
  "language_info": {
   "name": "python",
   "version": "3.9.18"
  }
 },
 "nbformat": 4,
 "nbformat_minor": 2
}
