{
 "cells": [
  {
   "cell_type": "markdown",
   "id": "cf7b7096",
   "metadata": {
    "slideshow": {
     "slide_type": "slide"
    }
   },
   "source": [
    "# 5. Conectividad"
   ]
  },
  {
   "cell_type": "markdown",
   "id": "4025a58f",
   "metadata": {
    "slideshow": {
     "slide_type": "slide"
    }
   },
   "source": [
    "## 5.1. Vertices de corte"
   ]
  },
  {
   "cell_type": "markdown",
   "id": "01f6e79e",
   "metadata": {
    "slideshow": {
     "slide_type": "slide"
    }
   },
   "source": [
    "## 5.2. Bloques"
   ]
  },
  {
   "cell_type": "markdown",
   "id": "a3d8dff2",
   "metadata": {
    "slideshow": {
     "slide_type": "slide"
    }
   },
   "source": [
    "## 5.3. Conectividad"
   ]
  },
  {
   "cell_type": "markdown",
   "id": "52c5f3b2",
   "metadata": {
    "slideshow": {
     "slide_type": "slide"
    }
   },
   "source": [
    "## 5.4. Teorema de Menger"
   ]
  },
  {
   "cell_type": "markdown",
   "id": "b6ae58f6",
   "metadata": {
    "slideshow": {
     "slide_type": "slide"
    }
   },
   "source": [
    "# Fin de la Unidad 5"
   ]
  },
  {
   "cell_type": "markdown",
   "id": "2b04bc55",
   "metadata": {},
   "source": []
  }
 ],
 "metadata": {
  "language_info": {
   "name": "python"
  }
 },
 "nbformat": 4,
 "nbformat_minor": 5
}
