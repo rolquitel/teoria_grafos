{
 "cells": [
  {
   "cell_type": "markdown",
   "metadata": {
    "slideshow": {
     "slide_type": "slide"
    }
   },
   "source": [
    "# 3. Grafos isomorfos"
   ]
  },
  {
   "cell_type": "markdown",
   "metadata": {
    "slideshow": {
     "slide_type": "slide"
    }
   },
   "source": [
    "## 3.1. Definición de isomorfismo"
   ]
  },
  {
   "cell_type": "markdown",
   "metadata": {
    "slideshow": {
     "slide_type": "subslide"
    }
   },
   "source": [
    "Recordemos que dos grafos $G$ y $H$ son iguales si $V(G)=V(H)$ y $E(G)=E(H)$. \n",
    "\n",
    "Llamamos \"isomorfos\" a dos grafos $G$ y $H$ si tienen la misma estructura y hemos escrito $G \\cong H$ para indicarlo. \n",
    "* Es decir, $G \\cong H$ si los vértices de $G$ y $H$ pueden etiquetarse (o reetiquetarse) para producir dos grafos iguales. \n",
    "\n",
    "Supongamos que se le pide que dé un ejemplo de tres grafos que tengan orden 5 y tamaño 5. ¿Serían los tres grafos $H_1, H_2$ y $H_3$ dados en la Figura 3.1 una respuesta aceptable a esta pregunta?"
   ]
  },
  {
   "cell_type": "markdown",
   "metadata": {
    "slideshow": {
     "slide_type": "subslide"
    }
   },
   "source": [
    "<center>\n",
    "<img src='./fig/3_grafos_iso.png'>\n",
    "\n",
    "<center>\n",
    "Figura 3.1. Grafos de orden 5"
   ]
  },
  {
   "cell_type": "markdown",
   "metadata": {
    "slideshow": {
     "slide_type": "subslide"
    }
   },
   "source": [
    "Al reposicionar los vértices de $\\mathrm{H}_2$, hemos redibujado $\\mathrm{H}_2$ como en la Figura 3.2. De manera similar, podemos redibujar $\\mathrm{H}_3$ como en la Figura 3.2.\n",
    "\n",
    "Ahora debería estar claro que los grafos de la Figura 3.1 difieren solo en la forma en que están etiquetados y en la forma en que están dibujados, es decir, tienen la misma estructura. En cierto sentido, entonces, solo hemos dado un ejemplo de un grafo de orden 5 y tamaño 5 . "
   ]
  },
  {
   "cell_type": "markdown",
   "metadata": {
    "slideshow": {
     "slide_type": "fragment"
    }
   },
   "source": [
    "<center>\n",
    "\n",
    "<img src='./fig/3_grafos_iso_2.png'>\n",
    "\n",
    "<center>\n",
    "Figura 3.2: Un grafo de orden 5 y tamaño 5\n"
   ]
  },
  {
   "cell_type": "markdown",
   "metadata": {
    "slideshow": {
     "slide_type": "subslide"
    }
   },
   "source": [
    "Formalmente, dos grafos (etiquetados) $G$ y $H$ son isomorfos (tienen la misma estructura):\n",
    "\n",
    "* si existe una correspondencia biunívoca $\\phi$ de $V(G)$ a $V(H)$ tal que $u v \\in E(G)$ si y solo si $\\phi$ $(u)^\\phi(v) \\in E(H)$. \n",
    "* $\\phi$ se llama isomorfismo de $G$ a $H$. \n",
    "* si $G$ y $H$ son grafos isomorfos, entonces decimos que $G$ es isomorfo a $H$ y escribimos $G \\cong H$. "
   ]
  },
  {
   "cell_type": "markdown",
   "metadata": {
    "slideshow": {
     "slide_type": "subslide"
    }
   },
   "source": [
    "Si $G$ y $H$ no están etiquetados, entonces \n",
    "\n",
    "* son isomorfos si, bajo cualquier etiquetado de sus vértices, son isomorfos como grafos etiquetados. \n",
    "\n",
    "\n",
    "Si dos grafos $G$ y $H$ no son isomorfos, entonces se denominan grafos no isomorfos y escribimos $G \\ncong H$."
   ]
  },
  {
   "cell_type": "markdown",
   "metadata": {
    "slideshow": {
     "slide_type": "subslide"
    }
   },
   "source": [
    "Como se implica por el rediseño del grafo $\\mathrm{H}_2$ en la Figura 3.2, la función $\\phi$ : $V\\left(H_1\\right) \\rightarrow V\\left(H_2\\right)$ definida por\n",
    "\n",
    "$$\n",
    "\\phi\\left(u_1\\right)=u_2, \\phi\\left(v_1\\right)=w_2, \\phi\\left(w_1\\right)=y_2, \\phi\\left(x_1\\right)=v_2, \\phi\\left(y_1\\right)=x_2\n",
    "$$\n",
    "\n",
    "es un isomorfismo y, por lo tanto, $H_1 \\cong H_2$. \n",
    "\n"
   ]
  },
  {
   "cell_type": "markdown",
   "metadata": {
    "slideshow": {
     "slide_type": "subslide"
    }
   },
   "source": [
    "Consideramos que dos grafos son el \"mismo\" grafo si son isomorfos y que son \"diferentes\" si no son isomorfos.\n",
    "\n",
    "Desde este punto de vista, sólo hay un grafos de orden 1, dos grafos de orden 2 y cuatro grafos de orden 3. \n",
    "\n",
    "Hay once gráficos (no isomorfos) de orden 4 y estos se muestran en la Figura 3.4.\n",
    "\n",
    "<center>\n",
    "<img src='./fig/11_grafos_orden_4.png'>\n",
    "\n",
    "<center>\n",
    "Figura 3.4. Los once grafos de orden 4."
   ]
  },
  {
   "cell_type": "markdown",
   "metadata": {
    "slideshow": {
     "slide_type": "subslide"
    }
   },
   "source": [
    "Para que dos grafos $G_1$ y $G_2$ sean isomorfos \n",
    "\n",
    "* $\\left|V\\left(G_1\\right)\\right|=\\left|V\\left(G_2\\right)\\right|$ y, por lo tanto, $G_1$ y $G_2$ tienen el mismo orden. \n",
    "\n",
    "* dos vértices $u_1$ y $v_1$ de $G_1$ son adyacentes en $G_1$ si y solo si los vértices correspondientes $\\phi\\left(u_1\\right)$ y $\\phi\\left(u_2\\right)$ son adyacentes en $G_2$. Esto implica que para que $G_1$ y $G_2$ sean isomorfos, deben tener el mismo tamaño.\n",
    "\n",
    "Por lo tanto, si dos grafos son isomorfos, entonces deben tener el mismo orden y el mismo tamaño."
   ]
  },
  {
   "cell_type": "markdown",
   "metadata": {
    "slideshow": {
     "slide_type": "subslide"
    }
   },
   "source": [
    "Por otra parte, si dos grafos tienen el mismo orden y el mismo tamaño, entonces no hay garantía de que los grafos sean isomorfos. \n",
    "\n",
    "Por ejemplo, los grafos $G_1$ y $G_2$ de la Figura 3.6 tienen orden 6 y tamaño 6, pero no son isomorfos. \n",
    "\n",
    "<center>\n",
    "<img src='./fig/no_isomorfos.png'>\n",
    "\n",
    "<center>\n",
    "Figura 3.6. Dos grafos no isomorfos."
   ]
  },
  {
   "cell_type": "markdown",
   "metadata": {
    "slideshow": {
     "slide_type": "subslide"
    }
   },
   "source": [
    "> **Teorema 3.1** Dos grafos $G$ y $H$ son isomorfos si y solo si sus complementos $\\bar{G}$ y $\\bar{H}$ son isomorfos.\n",
    "\n",
    "Consideremos los dos grafos $H_1$ y $H_2$ que se muestran en la Figura 3.7. Ambos grafos tienen orden 6 y tamaño 9; por lo tanto, $H_1$ y $H_2$ podrían ser isomorfos, pero no lo sabemos con seguridad. \n",
    "\n",
    "Dado que $\\bar{H}_1=G_1$ y $\\bar{H}_2=G_2$ (donde $G_1$ y $G_2$ son los grafos que se muestran en la Figura 3.6) y $G_1$ y $G_2$ no son isomorfos, se deduce del Teorema 3.1 que $H_1$ y $H_2$ tampoco son isomorfos. "
   ]
  },
  {
   "cell_type": "markdown",
   "metadata": {
    "slideshow": {
     "slide_type": "subslide"
    }
   },
   "source": [
    "Un grafo y su complemento pueden ser isomorfos. Un grafo $G$ es autocomplementario si $G \\cong \\bar{G}$. \n",
    "\n",
    "La figura 3.8 muestra cuatro grafos autocomplementarios.\n",
    "\n",
    "<center>\n",
    "<img src='./fig/autocomplementarios.png'>\n",
    "\n",
    "<center>\n",
    "Figura 3.8. Grafos autocomplementarios.\n"
   ]
  },
  {
   "cell_type": "markdown",
   "metadata": {
    "slideshow": {
     "slide_type": "subslide"
    }
   },
   "source": [
    "> **Teorema 3.2** Si $G$ y $H$ son grafos isomorfos, entonces los grados de los vértices de $G$ son los mismos que los grados de los vértices de $H$.\n",
    "\n",
    "*Demostración*. \n",
    "\n",
    "* Como $G$ y $H$ son isomorfos, existe un isomorfismo $\\phi: V(G) \\rightarrow$ $V(H)$. \n",
    "* Sea $u$ un vértice de $G$ y supongamos que $\\phi(u)=v$, donde $v$ pertenece por tanto a $H$. \n",
    "* Supongamos que $u$ es adyacente a $x_1$, $x_2, \\ldots, x_k$ en $G$. \n",
    "* Entonces $\\phi(u)=v$ es adyacente a $\\phi\\left(x_1\\right), \\phi\\left(x_2\\right), \\ldots, \\phi\\left(x_k\\right)$ en $H$. \n",
    "* Por lo tanto, $\\operatorname{deg}_H v=k=\\operatorname{deg}_G u$.\n",
    "\n"
   ]
  },
  {
   "cell_type": "markdown",
   "metadata": {
    "slideshow": {
     "slide_type": "subslide"
    }
   },
   "source": [
    "El teorema 3.2 no sólo nos dice que dos grafos isomorfos $G$ y $H$ tienen la misma secuencia de grados, sino que la prueba de este teorema también dice que si $\\phi$ es un isomorfismo de $V(G)$ a $V(H)$ y $u$ es un vértice de $G$, entonces $\\operatorname{deg}_G u=\\operatorname{deg}_H \\phi(u)$, es decir, bajo un isomorfismo un vértice sólo puede mapearse en un vértice que tenga el mismo grado."
   ]
  },
  {
   "cell_type": "markdown",
   "metadata": {
    "slideshow": {
     "slide_type": "subslide"
    }
   },
   "source": [
    "Al igual que con el orden y el tamaño, que dos grafos tengan la misma secuencia de grados es solo una condición necesaria, no una condición suficiente, para que dos grafos sean isomorfos. \n",
    "\n",
    "Por ejemplo, las secuencias de grados de los grafos no isomorfos $G_1$ y $G_2$ de la Figura 3.6 son ambas $2,2,2,2,2,2$."
   ]
  },
  {
   "cell_type": "markdown",
   "metadata": {
    "slideshow": {
     "slide_type": "subslide"
    }
   },
   "source": [
    "Si $G$ y $H$ son grafos isomorfos, $\\phi: V(G) \\rightarrow$ $V(H)$ es un isomorfismo y el vértice $u$ de $G$ es mapeado por $\\phi$ al vértice $v$ de $H$, entonces cualquier propiedad que $u$ tenga en $G$ debe ser una propiedad que $v$ tenga en $H$ siempre que esta propiedad no dependa de cómo se dibujen o etiqueten los grafos. \n",
    "\n",
    "De manera más general, cualquier propiedad estructural de $G$ también debe ser poseída por $H$. Por ejemplo, \n",
    "1. si $G$ contiene un $k$-ciclo para algún entero $k \\geq 3$, entonces también lo tiene $H$ y\n",
    "2. si $G$ contiene un camino $u-v$ de longitud $k$, entonces $H$ contiene un camino $\\phi(u)-\\phi(v)$ de longitud $k$.\n",
    "\n"
   ]
  },
  {
   "cell_type": "markdown",
   "metadata": {
    "slideshow": {
     "slide_type": "subslide"
    }
   },
   "source": [
    "Estas observaciones dan el siguiente teorema.\n",
    "\n",
    "> Teorema 3.5 Sean $G$ y $H$ grafos isomorfos. Entonces\n",
    "> 1. $G$ es bipartito si y solo si $H$ es bipartito y\n",
    "> 1. $G$ es conexo si y solo si $H$ es conexo."
   ]
  },
  {
   "cell_type": "markdown",
   "metadata": {
    "slideshow": {
     "slide_type": "slide"
    }
   },
   "source": [
    "## 3.2. Isomorfismo como una relación"
   ]
  }
 ],
 "metadata": {
  "kernelspec": {
   "display_name": "base",
   "language": "python",
   "name": "python3"
  },
  "language_info": {
   "codemirror_mode": {
    "name": "ipython",
    "version": 3
   },
   "file_extension": ".py",
   "mimetype": "text/x-python",
   "name": "python",
   "nbconvert_exporter": "python",
   "pygments_lexer": "ipython3",
   "version": "3.9.18"
  }
 },
 "nbformat": 4,
 "nbformat_minor": 2
}
