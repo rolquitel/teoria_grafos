{
 "cells": [
  {
   "cell_type": "markdown",
   "metadata": {
    "slideshow": {
     "slide_type": "slide"
    }
   },
   "source": [
    "# 3. Grafos isomorfos"
   ]
  },
  {
   "cell_type": "markdown",
   "metadata": {
    "slideshow": {
     "slide_type": "slide"
    }
   },
   "source": [
    "## 3.1. Definición de isomorfismo"
   ]
  },
  {
   "cell_type": "markdown",
   "metadata": {
    "slideshow": {
     "slide_type": "subslide"
    }
   },
   "source": [
    "Recordemos que dos grafos $G$ y $H$ son iguales si $V(G)=V(H)$ y $E(G)=E(H)$. \n",
    "\n",
    "Llamamos \"isomorfos\" a dos grafos $G$ y $H$ si tienen la misma estructura y hemos escrito $G \\cong H$ para indicarlo. \n",
    "* Es decir, $G \\cong H$ si los vértices de $G$ y $H$ pueden etiquetarse (o reetiquetarse) para producir dos grafos iguales. \n",
    "\n",
    "Supongamos que se le pide que dé un ejemplo de tres grafos que tengan orden 5 y tamaño 5. ¿Serían los tres grafos $H_1, H_2$ y $H_3$ dados en la Figura 3.1 una respuesta aceptable a esta pregunta?"
   ]
  },
  {
   "cell_type": "markdown",
   "metadata": {
    "slideshow": {
     "slide_type": "subslide"
    }
   },
   "source": [
    "<center>\n",
    "<img src='./fig/3_grafos_iso.png'>\n",
    "\n",
    "<center>\n",
    "Figura 3.1. Grafos de orden 5"
   ]
  },
  {
   "cell_type": "markdown",
   "metadata": {
    "slideshow": {
     "slide_type": "subslide"
    }
   },
   "source": [
    "Al reposicionar los vértices de $\\mathrm{H}_2$, hemos redibujado $\\mathrm{H}_2$ como en la Figura 3.2. De manera similar, podemos redibujar $\\mathrm{H}_3$ como en la Figura 3.2.\n",
    "\n",
    "Ahora debería estar claro que los grafos de la Figura 3.1 difieren solo en la forma en que están etiquetados y en la forma en que están dibujados, es decir, tienen la misma estructura. En cierto sentido, entonces, solo hemos dado un ejemplo de un grafo de orden 5 y tamaño 5 . "
   ]
  },
  {
   "cell_type": "markdown",
   "metadata": {
    "slideshow": {
     "slide_type": "fragment"
    }
   },
   "source": [
    "<center>\n",
    "\n",
    "<img src='./fig/3_grafos_iso_2.png'>\n",
    "\n",
    "<center>\n",
    "Figura 3.2: Un grafo de orden 5 y tamaño 5\n"
   ]
  },
  {
   "cell_type": "markdown",
   "metadata": {
    "slideshow": {
     "slide_type": "subslide"
    }
   },
   "source": [
    "Formalmente, dos grafos (etiquetados) $G$ y $H$ son isomorfos (tienen la misma estructura):\n",
    "\n",
    "* si existe una correspondencia biunívoca $\\phi$ de $V(G)$ a $V(H)$ tal que $u v \\in E(G)$ si y solo si $\\phi$ $(u)^\\phi(v) \\in E(H)$. \n",
    "* $\\phi$ se llama isomorfismo de $G$ a $H$. \n",
    "* si $G$ y $H$ son grafos isomorfos, entonces decimos que $G$ es isomorfo a $H$ y escribimos $G \\cong H$. "
   ]
  },
  {
   "cell_type": "markdown",
   "metadata": {
    "slideshow": {
     "slide_type": "subslide"
    }
   },
   "source": [
    "Si $G$ y $H$ no están etiquetados, entonces \n",
    "\n",
    "* son isomorfos si, bajo cualquier etiquetado de sus vértices, son isomorfos como grafos etiquetados. \n",
    "\n",
    "\n",
    "Si dos grafos $G$ y $H$ no son isomorfos, entonces se denominan grafos no isomorfos y escribimos $G \\ncong H$."
   ]
  },
  {
   "cell_type": "markdown",
   "metadata": {
    "slideshow": {
     "slide_type": "subslide"
    }
   },
   "source": [
    "Como se implica por el rediseño del grafo $\\mathrm{H}_2$ en la Figura 3.2, la función $\\phi$ : $V\\left(H_1\\right) \\rightarrow V\\left(H_2\\right)$ definida por\n",
    "\n",
    "$$\n",
    "\\phi\\left(u_1\\right)=u_2, \\phi\\left(v_1\\right)=w_2, \\phi\\left(w_1\\right)=y_2, \\phi\\left(x_1\\right)=v_2, \\phi\\left(y_1\\right)=x_2\n",
    "$$\n",
    "\n",
    "es un isomorfismo y, por lo tanto, $H_1 \\cong H_2$. \n",
    "\n"
   ]
  },
  {
   "cell_type": "markdown",
   "metadata": {
    "slideshow": {
     "slide_type": "subslide"
    }
   },
   "source": [
    "Consideramos que dos grafos son el \"mismo\" grafo si son isomorfos y que son \"diferentes\" si no son isomorfos.\n",
    "\n",
    "Desde este punto de vista, sólo hay un grafos de orden 1, dos grafos de orden 2 y cuatro grafos de orden 3. \n",
    "\n",
    "Hay once gráficos (no isomorfos) de orden 4 y estos se muestran en la Figura 3.4.\n",
    "\n",
    "<center>\n",
    "<img src='./fig/11_grafos_orden_4.png'>\n",
    "\n",
    "<center>\n",
    "Figura 3.4. Los once grafos de orden 4."
   ]
  },
  {
   "cell_type": "markdown",
   "metadata": {
    "slideshow": {
     "slide_type": "subslide"
    }
   },
   "source": [
    "Para que dos grafos $G_1$ y $G_2$ sean isomorfos \n",
    "\n",
    "* $\\left|V\\left(G_1\\right)\\right|=\\left|V\\left(G_2\\right)\\right|$ y, por lo tanto, $G_1$ y $G_2$ tienen el mismo orden. \n",
    "\n",
    "* dos vértices $u_1$ y $v_1$ de $G_1$ son adyacentes en $G_1$ si y solo si los vértices correspondientes $\\phi\\left(u_1\\right)$ y $\\phi\\left(u_2\\right)$ son adyacentes en $G_2$. Esto implica que para que $G_1$ y $G_2$ sean isomorfos, deben tener el mismo tamaño.\n",
    "\n",
    "Por lo tanto, si dos grafos son isomorfos, entonces deben tener el mismo orden y el mismo tamaño."
   ]
  },
  {
   "cell_type": "markdown",
   "metadata": {
    "slideshow": {
     "slide_type": "subslide"
    }
   },
   "source": [
    "Por otra parte, si dos grafos tienen el mismo orden y el mismo tamaño, entonces no hay garantía de que los grafos sean isomorfos. \n",
    "\n",
    "Por ejemplo, los grafos $G_1$ y $G_2$ de la Figura 3.6 tienen orden 6 y tamaño 6, pero no son isomorfos. \n",
    "\n",
    "<center>\n",
    "<img src='./fig/no_isomorfos.png'>\n",
    "\n",
    "<center>\n",
    "Figura 3.6. Dos grafos no isomorfos."
   ]
  },
  {
   "cell_type": "markdown",
   "metadata": {
    "slideshow": {
     "slide_type": "subslide"
    }
   },
   "source": [
    "> **Teorema 3.1** Dos grafos $G$ y $H$ son isomorfos si y solo si sus complementos $\\bar{G}$ y $\\bar{H}$ son isomorfos.\n",
    "\n",
    "Consideremos los dos grafos $H_1$ y $H_2$ que se muestran en la Figura 3.7. Ambos grafos tienen orden 6 y tamaño 9; por lo tanto, $H_1$ y $H_2$ podrían ser isomorfos, pero no lo sabemos con seguridad. \n",
    "\n",
    "Dado que $\\bar{H}_1=G_1$ y $\\bar{H}_2=G_2$ (donde $G_1$ y $G_2$ son los grafos que se muestran en la Figura 3.6) y $G_1$ y $G_2$ no son isomorfos, se deduce del Teorema 3.1 que $H_1$ y $H_2$ tampoco son isomorfos. "
   ]
  },
  {
   "cell_type": "markdown",
   "metadata": {
    "slideshow": {
     "slide_type": "subslide"
    }
   },
   "source": [
    "Un grafo y su complemento pueden ser isomorfos. Un grafo $G$ es autocomplementario si $G \\cong \\bar{G}$. \n",
    "\n",
    "La figura 3.8 muestra cuatro grafos autocomplementarios.\n",
    "\n",
    "<center>\n",
    "<img src='./fig/autocomplementarios.png'>\n",
    "\n",
    "<center>\n",
    "Figura 3.8. Grafos autocomplementarios.\n"
   ]
  },
  {
   "cell_type": "markdown",
   "metadata": {
    "slideshow": {
     "slide_type": "subslide"
    }
   },
   "source": [
    "> **Teorema 3.2** Si $G$ y $H$ son grafos isomorfos, entonces los grados de los vértices de $G$ son los mismos que los grados de los vértices de $H$.\n",
    "\n",
    "*Demostración*. \n",
    "\n",
    "* Como $G$ y $H$ son isomorfos, existe un isomorfismo $\\phi: V(G) \\rightarrow$ $V(H)$. \n",
    "* Sea $u$ un vértice de $G$ y supongamos que $\\phi(u)=v$, donde $v$ pertenece por tanto a $H$. \n",
    "* Supongamos que $u$ es adyacente a $x_1$, $x_2, \\ldots, x_k$ en $G$. \n",
    "* Entonces $\\phi(u)=v$ es adyacente a $\\phi\\left(x_1\\right), \\phi\\left(x_2\\right), \\ldots, \\phi\\left(x_k\\right)$ en $H$. \n",
    "* Por lo tanto, $\\operatorname{deg}_H v=k=\\operatorname{deg}_G u$.\n",
    "\n"
   ]
  },
  {
   "cell_type": "markdown",
   "metadata": {
    "slideshow": {
     "slide_type": "subslide"
    }
   },
   "source": [
    "El teorema 3.2 no sólo nos dice que dos grafos isomorfos $G$ y $H$ tienen la misma secuencia de grados, sino que la prueba de este teorema también dice que si $\\phi$ es un isomorfismo de $V(G)$ a $V(H)$ y $u$ es un vértice de $G$, entonces $\\operatorname{deg}_G u=\\operatorname{deg}_H \\phi(u)$, es decir, bajo un isomorfismo un vértice sólo puede mapearse en un vértice que tenga el mismo grado."
   ]
  },
  {
   "cell_type": "markdown",
   "metadata": {
    "slideshow": {
     "slide_type": "subslide"
    }
   },
   "source": [
    "Al igual que con el orden y el tamaño, que dos grafos tengan la misma secuencia de grados es solo una condición necesaria, no una condición suficiente, para que dos grafos sean isomorfos. \n",
    "\n",
    "Por ejemplo, las secuencias de grados de los grafos no isomorfos $G_1$ y $G_2$ de la Figura 3.6 son ambas $2,2,2,2,2,2$."
   ]
  },
  {
   "cell_type": "markdown",
   "metadata": {
    "slideshow": {
     "slide_type": "subslide"
    }
   },
   "source": [
    "Si $G$ y $H$ son grafos isomorfos, $\\phi: V(G) \\rightarrow$ $V(H)$ es un isomorfismo y el vértice $u$ de $G$ es mapeado por $\\phi$ al vértice $v$ de $H$, entonces cualquier propiedad que $u$ tenga en $G$ debe ser una propiedad que $v$ tenga en $H$ siempre que esta propiedad no dependa de cómo se dibujen o etiqueten los grafos. \n",
    "\n",
    "De manera más general, cualquier propiedad estructural de $G$ también debe ser poseída por $H$. Por ejemplo, \n",
    "1. si $G$ contiene un $k$-ciclo para algún entero $k \\geq 3$, entonces también lo tiene $H$ y\n",
    "2. si $G$ contiene un camino $u-v$ de longitud $k$, entonces $H$ contiene un camino $\\phi(u)-\\phi(v)$ de longitud $k$.\n",
    "\n"
   ]
  },
  {
   "cell_type": "markdown",
   "metadata": {
    "slideshow": {
     "slide_type": "subslide"
    }
   },
   "source": [
    "Estas observaciones dan el siguiente teorema.\n",
    "\n",
    "> Teorema 3.5 Sean $G$ y $H$ grafos isomorfos. Entonces\n",
    "> 1. $G$ es bipartito si y solo si $H$ es bipartito y\n",
    "> 1. $G$ es conexo si y solo si $H$ es conexo."
   ]
  },
  {
   "cell_type": "markdown",
   "metadata": {
    "slideshow": {
     "slide_type": "slide"
    }
   },
   "source": [
    "## 3.2. Isomorfismo como una relación"
   ]
  },
  {
   "cell_type": "markdown",
   "metadata": {
    "slideshow": {
     "slide_type": "subslide"
    }
   },
   "source": [
    "Si un grafo $G_1$ es isomorfo a un grafo $G_2$ si existe un isomorfismo $\\phi: V\\left(G_1\\right) \\rightarrow V\\left(G_2\\right)$, \n",
    "* el isomorfismo produce una relación en cualquier conjunto de grafos, es decir, un grafo $G_1$ está relacionado con un grafo $G_2$ si $G_1$ es isomorfo a $G_2$. \n",
    "\n",
    "* Esta relación es una relación de equivalencia. \n",
    "  * el isomorfismo es reflexivo (cada grafo es isomorfo a sí mismo), \n",
    "  * el isomorfismo es simétrico (si $G_1$ es isomorfo a $G_2$, entonces $G_2$ es isomorfo a $G_1$) y \n",
    "  * el isomorfismo es transitivo (si $G_1$ es isomorfo a $G_2$ y $G_2$ es isomorfo a $G_3$, entonces $G_1$ es isomorfo a $G_3$).\n",
    "\n"
   ]
  },
  {
   "cell_type": "markdown",
   "metadata": {
    "slideshow": {
     "slide_type": "subslide"
    }
   },
   "source": [
    "> **Teorema 3.6.** El isomorfismo es una relación de equivalencia en el conjunto de todos los grafos.\n",
    "\n",
    "*Demostración.*\n",
    "\n",
    "El isomorfismo es reflexivo, es decir, todo grafo es isomorfo a sí mismo. \n",
    "* Sea $G$ un grafo y consideremos la función identidad $\\epsilon$ : $V(G) \\rightarrow V(G)$ definida por $\\epsilon(v)=v$ para cada vértice $v$ de $G$. \n",
    "* dos vértices $u$ y $v$ de $G$ son adyacentes si y solo si $\\epsilon(u)=u$ y $\\epsilon$ $(v)=v$ son adyacentes. \n",
    "  * Por lo tanto, $\\epsilon$ es un isomorfismo y, por lo tanto, $G$ es isomorfo a $G$.\n"
   ]
  },
  {
   "cell_type": "markdown",
   "metadata": {
    "slideshow": {
     "slide_type": "subslide"
    }
   },
   "source": [
    "El isomorfismo es simétrico. \n",
    "\n",
    "* Sean $G_1$ y $G_2$ grafos y supongamos que $G_1$ es isomorfo a $G_2$. \n",
    "  * Por lo tanto, existe un isomorfismo $\\phi$ : $V\\left(G_1\\right) \\rightarrow V\\left(G_2\\right)$. \n",
    "* Como $\\phi$ es una función biyectiva, \n",
    "  * su inversa $\\phi^{-1}: V\\left(G_2\\right) \\rightarrow V\\left(G_1\\right)$ existe y es una función biyectiva. \n",
    "* Sean $u_2$ y $v_2$ dos vértices cualesquiera en $G_2$ y supongamos que $\\phi^{-1}\\left(u_2\\right)=u_1$ y $\\phi^{-1}\\left(v_2\\right)=v_1$. \n",
    "  * Por lo tanto $\\phi\\left(u_1\\right)=u_2$ y $\\phi\\left(v_1\\right)=v_2$. \n",
    "  * Si $u_2$ y $v_2$ son vértices adyacentes en $G_2$, entonces $u_1$ y $v_1$ son vértices adyacentes en $G_1$ ya que $\\phi$ es un isomorfismo. \n",
    "* Por otra parte, si $u_2$ y $v_2$ no son adyacentes, entonces $u_1$ y $v_1$ no son adyacentes. \n",
    "  * Por lo tanto, $u_2$ y $v_2$ son adyacentes en $G_2$ si y solo si $\\phi^{-1}\\left(u_2\\right)$ y $\\phi^{-1}\\left(v_2\\right)$ son adyacentes en $G_1$. Por lo tanto, $\\phi^{-1}$ es un isomorfismo y, por lo tanto, $G_2$ es isomorfo a $G_1$.\n",
    "\n"
   ]
  },
  {
   "cell_type": "markdown",
   "metadata": {
    "slideshow": {
     "slide_type": "subslide"
    }
   },
   "source": [
    "El isomorfismo es transitivo. \n",
    "\n",
    "* Sean los grafos $G_1, G_2$ y $G_3$, supongamos que $G_1$ es isomorfo a $G_2$ y $G_2$ es isomorfo a $G_3$. \n",
    "  * Por lo tanto, existen isomorfismos $\\alpha: V\\left(G_1\\right) \\rightarrow V\\left(G_2\\right)$ y $\\beta: V\\left(G_2\\right) \\rightarrow V\\left(G_3\\right)$. \n",
    "* Considérese la composición $\\beta \\circ \\alpha: V\\left(G_1\\right) \\rightarrow V\\left(G_3\\right)$. \n",
    "* Como $\\alpha$ y $\\beta$ son biyectivas, también lo es $\\beta \\circ \\alpha$. \n",
    "* Como $\\alpha$ es un isomorfismo, los vértices $u_1$ y $v_1$ de $G_1$ son adyacentes si y solo si $\\alpha$ $\\left(u_1\\right)$ y $\\alpha\\left(v_1\\right)$ son adyacentes en $G_2$. \n",
    "* Como $\\beta$ es un isomorfismo, $\\alpha\\left(u_1\\right)$ y $\\alpha\\left(\\beta_1\\right)$ son adyacentes en $G_2$ si y solo si $\\beta\\left(\\alpha\\left(u_1\\right)\\right)$ y $\\beta\\left(\\alpha\\left(v_1\\right)\\right)$ son adyacentes en $G_3$. \n",
    "  * Por lo tanto, $u_1$ y $v_1$ son adyacentes en $G_1$ si y solo si $(\\beta \\circ \\alpha)\\left(u_1\\right)$ y $(\\beta \\circ \\alpha)\\left(v_1\\right)$ son adyacentes en $G_3$ y por lo tanto $\\beta \\circ \\alpha$ es un isomorfismo. \n",
    "  * Por lo tanto, $G_1$ es isomorfo a $G_3$."
   ]
  },
  {
   "cell_type": "markdown",
   "metadata": {
    "slideshow": {
     "slide_type": "subslide"
    }
   },
   "source": [
    "El hecho de que el isomorfismo es una relación de equivalencia en un conjunto de grafos produce una partición de este conjunto en clases de equivalencia (subconjuntos) llamadas **clases de isomorfismo**. \n",
    "\n",
    "* Cada par de grafos en la misma clase de isomorfismo son isomorfos y \n",
    "* cada par grafos en diferentes clases de isomorfismo no son isomorfos.\n",
    "\n"
   ]
  },
  {
   "cell_type": "markdown",
   "metadata": {
    "slideshow": {
     "slide_type": "subslide"
    }
   },
   "source": [
    "Supongamos que se nos piden todos los grafos con sucesión de grados $s: 2,2,2,2,2,2,2,2,2$. Lo que estamos buscando claramente aquí son grafos no isomorfos. La respuesta a esta pregunta se da en la Figura 3.16.\n",
    "\n",
    "<center>\n",
    "<img src='./fig/grafo222222222.png'>\n",
    "\n",
    "<center>\n",
    "Figura 3.16. Todos los grafos con secuencia gráfica s: 2,2,2,2,2,2,2,2,2."
   ]
  },
  {
   "cell_type": "markdown",
   "metadata": {
    "slideshow": {
     "slide_type": "subslide"
    }
   },
   "source": [
    "Consideremos los grafos $H$ y $G$ de la Figura 3.17. \n",
    "\n",
    "* Definimos un grafo $H$ como un subgrafo de un grafo $G$, escrito $H \\subseteq G$, si $V(H) \\subseteq V(G)$ y $E(H) \\subseteq E(G)$. \n",
    "  * esta es la definición si los grafos $H$ y $G$ están etiquetados (es decir, si se han especificado los conjuntos de vértices de $H$ y $G$). \n",
    "\n",
    "* Los grafos $H$ y $G$ de la Figura 3.17 no están etiquetados. Para este tipo de grafos $H$ y $G$, \n",
    "  * $H$ es **isomorfo a un subgrafo** de $G$ si para cualquier etiquetado de los vértices de $H$ y $G$, el grafo etiquetado $H$ es isomorfo a un subgrafo del grafo etiquetado $G$. \n",
    "  "
   ]
  },
  {
   "cell_type": "markdown",
   "metadata": {
    "slideshow": {
     "slide_type": "subslide"
    }
   },
   "source": [
    "<center>\n",
    "<img src='./fig/sub_isomorfo.png'>\n",
    "\n",
    "<center>\n",
    "Figura 3.17. Isomorfismo en subgrafos."
   ]
  },
  {
   "cell_type": "markdown",
   "metadata": {
    "slideshow": {
     "slide_type": "slide"
    }
   },
   "source": [
    "## Fin de la unidad 3"
   ]
  },
  {
   "cell_type": "markdown",
   "metadata": {},
   "source": []
  }
 ],
 "metadata": {
  "kernelspec": {
   "display_name": "base",
   "language": "python",
   "name": "python3"
  },
  "language_info": {
   "codemirror_mode": {
    "name": "ipython",
    "version": 3
   },
   "file_extension": ".py",
   "mimetype": "text/x-python",
   "name": "python",
   "nbconvert_exporter": "python",
   "pygments_lexer": "ipython3",
   "version": "3.9.18"
  }
 },
 "nbformat": 4,
 "nbformat_minor": 2
}
