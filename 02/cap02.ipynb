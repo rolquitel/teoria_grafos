{
 "cells": [
  {
   "cell_type": "markdown",
   "metadata": {
    "slideshow": {
     "slide_type": "slide"
    }
   },
   "source": [
    "# 2. Grados"
   ]
  },
  {
   "cell_type": "markdown",
   "metadata": {
    "slideshow": {
     "slide_type": "slide"
    }
   },
   "source": [
    "## 2.1. El grado de un vértice"
   ]
  },
  {
   "cell_type": "markdown",
   "metadata": {
    "slideshow": {
     "slide_type": "subslide"
    }
   },
   "source": [
    "El **grado de un vértice** $v$ en un grafo $G$ es el número de aristas incidentes con $v$ y se denota por $\\operatorname{deg}_G v$ o simplemente por $\\operatorname{deg} v$ si el grafo $G$ se desprende del contexto. Además, deg $v$ es el número de vértices adyacentes a $v$. \n",
    "\n",
    "Recordemos que dos vértices adyacentes se denominan vecinos entre sí. El conjunto $N(v)$ de vecinos de un vértice $v$ se denomina **vecindad** de $v$. Por lo tanto, $\\operatorname{deg} v=|N(v)|$.\n",
    "\n",
    "* Un vértice de grado 0 se denomina **vértice aislado** y \n",
    "* * un vértice de grado 1 es un **vértice final** (o una **hoja**). \n"
   ]
  },
  {
   "cell_type": "markdown",
   "metadata": {
    "slideshow": {
     "slide_type": "subslide"
    }
   },
   "source": [
    " \n",
    "> El **grado mínimo** de $G$ es el grado mínimo entre los vértices de $G$ y se denota por $\\delta(G)$; el **grado máximo** de $G$ se denota por $\\Delta(G)$. Por lo tanto, si $G$ es un grafo de orden $n$ y $v$ es cualquier vértice de $G$, entonces\n",
    "> \n",
    "> $$\n",
    "> 0 \\leq \\delta(G) \\leq \\operatorname{deg} v \\leq \\Delta(G) \\leq n-1\n",
    "> $$\n",
    "\n"
   ]
  },
  {
   "cell_type": "markdown",
   "metadata": {
    "slideshow": {
     "slide_type": "subslide"
    }
   },
   "source": [
    "El grafo $G$ de la Figura 2.1.1 tiene orden 6 y tamaño 5. Cada vértice de $G$ está etiquetado con su grado. \n",
    "\n",
    "* Como $G$ contiene un vértice aislado, a saber, $u$, se deduce que $\\delta(G)=0$. \n",
    "* Además, $w$ tiene el mayor grado en $G$ y, por lo tanto, $\\Delta(G)=\\operatorname{deg} w=4$. \n",
    "* Tanto $v$ como $z$ son vértices finales de $G$ ya que $\\operatorname{deg} v=\\operatorname{deg} z=1$. "
   ]
  },
  {
   "cell_type": "markdown",
   "metadata": {
    "slideshow": {
     "slide_type": "subslide"
    }
   },
   "source": [
    "<center>\n",
    "<img src='./fig/grafo1.png'>\n",
    "\n",
    "Figura 2.1.1. Un grafo $G$ con $\\delta (G) = 0$ y $ \\Delta (G) = 4$.\n",
    "</center>"
   ]
  },
  {
   "cell_type": "markdown",
   "metadata": {
    "slideshow": {
     "slide_type": "subslide"
    }
   },
   "source": [
    "Si sumamos los grados de los vértices de $G$, obtenemos $0+1+1+2+2+4=10$, que resulta ser el doble del tamaño de $G$. Esto no es una coincidencia, como lo demostramos en nuestro siguiente teorema, que a menudo se denomina el **Primer Teorema de la Teoría de Grafos**, llamado así porque es probable que cualquiera que estudie teoría de grafos por primera vez descubra este resultado como su propio primer teorema sobre el tema.\n",
    "\n",
    "> **Teorema 2.1.1** (El Primer Teorema de la Teoría de Grafos) Si $G$ es un grafo de tamaño $m$, entonces\n",
    "> \n",
    "> $$\n",
    "> \\sum_{v \\in V(G)} \\operatorname{deg} v=2 m\n",
    "> $$\n",
    "> "
   ]
  },
  {
   "cell_type": "markdown",
   "metadata": {
    "slideshow": {
     "slide_type": "subslide"
    }
   },
   "source": [
    "*Demostración*. \n",
    "\n",
    "Al sumar los grados de los vértices de $G$, cada arista de $G$ se cuenta dos veces, una por cada uno de sus dos vértices incidentes."
   ]
  },
  {
   "cell_type": "markdown",
   "metadata": {
    "slideshow": {
     "slide_type": "subslide"
    }
   },
   "source": [
    "Supóngase que $G$ es un grafo bipartito de tamaño $m$ con conjuntos particulados $U=\\left\\{u_1, u_2, \\ldots\\right.$, $\\left.u_s\\right\\}$ y $W=\\left\\{w_1, w_2, \\ldots, w_t\\right\\}$. Como cada arista de $G$ une un vértice de $U$ y un vértice de $W$, se deduce que al sumar los grados de los vértices en $U$ (o en $W$) se obtiene el número de aristas en $G$, es decir,\n",
    "\n",
    "$$\n",
    "\\sum_{i=1}^s \\operatorname{deg} u_i=\\sum_{j=1}^t \\operatorname{deg} w_j=m\n",
    "$$\n",
    "\n",
    "Un vértice de grado par se denomina vértice par, mientras que un vértice de grado impar es un vértice impar. Volviendo al grafo $G$ de la Figura 2.1.2, vemos que tiene seis vértices pares y ocho vértices impares. En particular, el número de vértices impares de $G$ es par. Demostramos que este es el caso para cada grafo.\n",
    "\n"
   ]
  },
  {
   "cell_type": "markdown",
   "metadata": {
    "slideshow": {
     "slide_type": "subslide"
    }
   },
   "source": [
    "<center>\n",
    "<img src='./fig/grafo-14-27.png'>\n",
    "\n",
    "Figura 2.1.2. Un grafo de orden 14 y tamaño 27."
   ]
  },
  {
   "cell_type": "markdown",
   "metadata": {
    "slideshow": {
     "slide_type": "subslide"
    }
   },
   "source": [
    "> **Corolario 2.1.1.** Todo grafo tiene un número par de vértices impares.\n",
    "\n"
   ]
  },
  {
   "cell_type": "markdown",
   "metadata": {
    "slideshow": {
     "slide_type": "subslide"
    }
   },
   "source": [
    "*Demostración*. \n",
    "\n",
    "* Sea $G$ un grafo de tamaño $m$. \n",
    "* Divida $V(G)$ en dos subconjuntos $V_1$ y $V_2$, donde $V_1$ consta de los vértices impares de $G$ y $V_2$ consta de los vértices pares de $G$. Por el primer teorema de la teoría de grafos: \n",
    "$$\n",
    "\\sum_{v \\in V(G)} \\operatorname{deg} v=\\sum_{v \\in V_1} \\operatorname{deg} v+\\sum_{v \\in V_2} \\operatorname{deg} v=2 m\n",
    "$$\n",
    "\n",
    "* El número $\\sum_{v \\in V_2} \\operatorname{deg} v$ es par, ya que es una suma de números enteros pares. Por lo tanto,\n",
    "\n",
    "$$\n",
    "\\sum_{v \\in V_1} \\operatorname{deg} v=2 m-\\sum_{v \\in V_2} \\operatorname{deg} v\n",
    "$$\n",
    "* lo que implica que $\\sum_{v \\in V_1} \\operatorname{deg} v$ es par. \n",
    "* Como cada uno de los números $\\operatorname{deg} v, v \\in$ $V_1$, es impar, la cantidad de vértices impares de $G$ es par."
   ]
  },
  {
   "cell_type": "markdown",
   "metadata": {
    "slideshow": {
     "slide_type": "subslide"
    }
   },
   "source": [
    "Si un grafo $G$ de orden $n$ contiene un vértice de grado $n-1$, entonces $G$ es conexo. \n",
    "\n",
    "* Supongamos que $\\operatorname{deg} w=n-1$. \n",
    "* Por lo tanto, $w$ es adyacente a todos los demás vértices de $G$. \n",
    "* Para demostrar que $G$ es conexo, necesitamos demostrar que cada par $x, y$ de vértices de $G$ son conexos, es decir, $G$ contiene un camino $x-y$. \n",
    "  * Esto es claramente cierto si uno de $x$ e $y$ es $w$. \n",
    "  * Si ni $x$ ni $y$ son $w$, entonces como $w$ es adyacente tanto a $x$ como a $y$, se deduce que ( $x, w, y$ ) es un camino $x-y$ y, en consecuencia, $G$ contiene un camino $x-y$.\n"
   ]
  },
  {
   "cell_type": "markdown",
   "metadata": {
    "slideshow": {
     "slide_type": "subslide"
    }
   },
   "source": [
    "Esta condición de grado no es necesaria para que un grafo sea conexo. \n",
    "\n",
    "> **Teorema 2.1.2.** Sea $G$ un grafo de orden $n$. Si $\\operatorname{deg} u+\\operatorname{deg} v \\geq n-1 $ para cada dos vértices no adyacentes $u$ y $v$ de $G$, entonces $G$ es conexo y $\\operatorname{diam}(G) \\leq 2$.\n",
    "> \n",
    "\n"
   ]
  },
  {
   "cell_type": "markdown",
   "metadata": {
    "slideshow": {
     "slide_type": "subslide"
    }
   },
   "source": [
    "*Demostración*. \n",
    "\n",
    "Demostramos que cada dos vértices distintos de $G$ están conectados por un camino de longitud como máximo 2. \n",
    "* Sea $x, y \\in V(G)$. \n",
    "* Si $x y \\in E(G)$, entonces $(x, y)$ es un camino y $x$ e $y$ están ciertamente conexos. \n",
    "* Si $x y \\notin E(G)$, entonces, $\\operatorname{deg} x+\\operatorname{deg} y \\geq n-1$, lo que implica que debe haber un vértice $w$ que sea adyacente tanto a $x$ como a $y$. \n",
    "* Por lo tanto, $(x, w, y)$ es un camino en $G$, como se desea.\n"
   ]
  },
  {
   "cell_type": "markdown",
   "metadata": {
    "slideshow": {
     "slide_type": "subslide"
    }
   },
   "source": [
    "El teorema 2.1.2 implica que si $G$ es un grafo de orden $n$ tal que $\\operatorname{deg} v \\geq \\frac{(n-1)} {2}$ para cada vértice $v$ de $G$, entonces $G$ debe ser conexo.\n",
    "\n",
    "> **Corolario 2.1.2** Si $G$ es un grafo de orden $n$ con $\\delta(G) \\geq \\frac{(n-1)} {2}$, entonces $G$ es conexo. \n",
    "> \n"
   ]
  },
  {
   "cell_type": "markdown",
   "metadata": {
    "slideshow": {
     "slide_type": "subslide"
    }
   },
   "source": [
    "*Demostración*. \n",
    "\n",
    "* Por cada dos vértices no adyacentes $u$ y $v$ de $G$, \n",
    "$$\n",
    "\\operatorname{deg} u+\\operatorname{deg} v \\geq \\frac{n-1}{2}+\\frac{n-1}{2}=n-1\n",
    "$$\n",
    "* Por el Teorema 2.1.2, $G$ es conexo."
   ]
  },
  {
   "cell_type": "markdown",
   "metadata": {
    "slideshow": {
     "slide_type": "subslide"
    }
   },
   "source": [
    "El concepto de grado tiene contrapartes tanto en multigrafos como en pseudografos y dígrafos. \n",
    "\n",
    "Para un vértice $v$ en un multigrafo o pseudografo $G$, el grado deg $v$ de $v$ en $G$ es el número de aristas de $G$ incidentes con $v$, donde hay una contribución de 2 para cada bucle en $v$ en un pseudografo. Para el pseudografo $G$ de la Figura 2.1.3,\n",
    "$\\operatorname{deg} u_1=4, \\operatorname{deg} u_2=6, \\operatorname{deg} u_3=6, \\operatorname{deg} u_4=4$.\n",
    "\n"
   ]
  },
  {
   "cell_type": "markdown",
   "metadata": {
    "slideshow": {
     "slide_type": "subslide"
    }
   },
   "source": [
    "<center>\n",
    "<img src='./fig/pseudo-multi.png'>\n",
    "\n",
    "Figura 2.1.3. Grados en un multigrafo y un digrafo."
   ]
  },
  {
   "cell_type": "markdown",
   "metadata": {
    "slideshow": {
     "slide_type": "subslide"
    }
   },
   "source": [
    "Para un vértice $v$ en un dígrafo $D$, el grado de salida  $\\operatorname{od} v$ de $v$ es el número de vértices de $D$ hacia los que $v$ es adyacente, mientras que el grado de entrada  $\\operatorname{id} v$ de $v$ es el número de vértices de $D$ desde los que $v$ es adyacente. Para el dígrafo $D$ de la Figura 2.1.3, $\\operatorname{od} v_1=\\operatorname{id} v_1=1, \\operatorname{od} v_2=2, \\operatorname{id} v_2=1, \\operatorname{od} v_3=0, \\operatorname{id} v_3=1 $"
   ]
  },
  {
   "cell_type": "markdown",
   "metadata": {
    "slideshow": {
     "slide_type": "slide"
    }
   },
   "source": [
    "## 2.2. Grafos regulares"
   ]
  },
  {
   "cell_type": "markdown",
   "metadata": {
    "slideshow": {
     "slide_type": "subslide"
    }
   },
   "source": [
    "Ya hemos mencionado que $0 \\leq \\delta(G) \\leq \\Delta(G) \\leq n-1$ para cada grafo $G$ de orden $n$. \n",
    "\n",
    "Si $\\delta(G)=\\Delta(G)$, entonces los vértices de $G$ tienen el mismo grado y $G$ se llama **grafo regular**. \n",
    "\n",
    "* Si deg $v=r$ para cada vértice $v$ de $G$, donde $0 \\leq r \\leq n-1$, entonces $G$ es **$r$-regular** o **regular de grado $r$**. \n",
    "* Los únicos grafos regulares de orden 4 o 5 se muestran en la Figura 2.2.1. \n",
    "  * No existe ningún grafo 1-regular o 3-regular de orden 5, ya que ningún grafo contiene un número impar de vértices impares por el Corolario 2.3."
   ]
  },
  {
   "cell_type": "markdown",
   "metadata": {
    "slideshow": {
     "slide_type": "subslide"
    }
   },
   "source": [
    "<center>\n",
    "<img src='./fig/grafos-regulares.png'>\n",
    "\n",
    "Figura 2.2.1. Grafos regulares."
   ]
  },
  {
   "cell_type": "markdown",
   "metadata": {
    "slideshow": {
     "slide_type": "subslide"
    }
   },
   "source": [
    "Un grafo 3-regular también se denomina grafo cúbico. \n",
    "\n",
    "Los grafos $K_4, K_{3,3}$ y $Q_3$ son grafos cúbicos; sin embargo, el grafo cúbico más conocido puede muy bien ser el grafo de Petersen, que se muestra en la Figura 2.2.2. \n",
    "\n",
    "<center>\n",
    "<img src='./fig/petersen.png'>\n",
    "\n",
    "Figura 2.2.2. El grafo de Petersen.\n",
    "\n"
   ]
  },
  {
   "cell_type": "markdown",
   "metadata": {
    "slideshow": {
     "slide_type": "subslide"
    }
   },
   "source": [
    "Por el Corolario 2.1.1, no hay grafos $r$-regulares de orden $n$ si $r$ y $n$ son ambos impares.\n",
    "\n",
    "Sin embargo, siempre que $0 \\leq r \\leq n-1$, no hay otras restricciones a la existencia de un grafo $r$-regular de orden $n$. En la siguiente demostración, consideraremos un grafo $G$ con el conjunto de vértices $V(G)=\\left\\{v_1, v_2, \\ldots, v_n\\right\\}$ y realizaremos operaciones aritméticas sobre los subíndices de los vértices. Seguimos la práctica estándar de realizar operaciones aritméticas módulo $n$. Por ejemplo, si $n=6$ e $i=5$, entonces el vértice $v_{i+2}$ denota $v_1$.\n",
    "\n"
   ]
  },
  {
   "cell_type": "markdown",
   "metadata": {
    "slideshow": {
     "slide_type": "subslide"
    }
   },
   "source": [
    "> **Teorema 2.2.1.** Sean $r$ y $n$ enteros con $0 \\leq r \\leq n-1$. Existe un grafo regular de orden $n$ si y solo si al menos uno de $r$ y $n$ es par.\n",
    "\n",
    "\n",
    "\n"
   ]
  },
  {
   "cell_type": "markdown",
   "metadata": {
    "slideshow": {
     "slide_type": "subslide"
    }
   },
   "source": [
    "*Demostración*. \n",
    "* Como ya hemos mencionado, no existe un grafo $r$-regular de orden $n$ si $r$ y $n$ son ambos impares. \n",
    "* Solo queda verificar la inversa. Por tanto, sean $r$ y $n$ enteros con $0 \\leq r \\leq n-1$ tales que al menos uno de $r$ y $n$ sea par. \n",
    "  * Construimos un grafo $r$-regular $H_{r, n}$ de orden $n$. Sea $V\\left(H_{r, n}\\right)=\\left\\{v_1, v_2, \\ldots, v_n\\right\\}$. \n",
    "  * Primero, supongamos que $r$ es par. Entonces $r=2 k \\leq n-1$ para algún entero no negativo $k \\leq(n-1) / 2$. Para cada $i(1 \\leq i \\leq n)$, unimos $v_i$ a $v_{i+1}, v_{i+2}, \\ldots, v_{i+k}$ y a $v_i$ ${ }_{-1}, v_{i-2}, \\ldots, v_{i-k}$. Si pensamos en ordenar los vértices $v_1, v_2, \\ldots, v_n$ cíclicamente, entonces cada vértice $v_i$ es adyacente a los $k$ vértices que siguen inmediatamente a $v_i$ y a los $k$ vértices que preceden inmediatamente a $v_i$. Por lo tanto, $H_{r, n}$ es $r$-regular. Para $r=4$ y $n=10$, el grafo $H_{4,10}$ se muestra en la Figura 2.2.3(a).\n",
    "  * Ahora, supongamos que $r$ es impar. Entonces $n=2 l$ es par. Además, $r=2 k+1 \\leq n-1$ para algún entero no negativo $k \\leq(n-2) / 2$. Unimos $v_i$ a los $2 k$ vértices descritos anteriormente, así como a $v_{i+l}$. En este caso, pensamos nuevamente en ordenar los vértices $v_1, v_2, \\ldots, v_n$ cíclicamente y unir cada vértice $v_i$ a los $k$ vértices inmediatamente posteriores, los $k$ vértices inmediatamente anteriores y el único vértice \"opuesto\" $v_i$. Por lo tanto, $H_{r, n}$ es $r$-regular. Para $r=5$ y $n=10$, el grafo $H_{5,10}$ se muestra en la Figura 2.2.3(b)."
   ]
  },
  {
   "cell_type": "markdown",
   "metadata": {
    "slideshow": {
     "slide_type": "subslide"
    }
   },
   "source": [
    "<center>\n",
    "<img src='./fig/4-5-regular.png'>\n",
    "\n",
    "Figura 2.2.3. Un grafo 4-regular y un 5-regular, ambos de orden 10."
   ]
  },
  {
   "cell_type": "markdown",
   "metadata": {
    "slideshow": {
     "slide_type": "subslide"
    }
   },
   "source": [
    "Los grafos $H_{r, n}$ descritos anteriormente se denominan grafos de Harary, en honor a Frank Harary.\n",
    "\n",
    "Si $H$ es un grafo $r$-regular, entonces $H$ no puede contener ningún grafo $G$ como subgrafo si $\\Delta(G)>r$. Por otro lado, si $G$ es un grafo con $\\Delta(G) \\leq r$ para algún entero $r$, entonces $G$ es un subgrafo (de hecho, un subgrafo inducido) de algún grafo $r$-regular $H$.\n"
   ]
  },
  {
   "cell_type": "markdown",
   "metadata": {
    "slideshow": {
     "slide_type": "subslide"
    }
   },
   "source": [
    "> **Teorema 2.2.2.** Para cada grafo $G$ y cada entero $r \\geq \\Delta(G)$, existe un grafo $r$-regular $H$ que contiene a $G$ como subgrafo inducido.\n",
    "\n"
   ]
  },
  {
   "cell_type": "markdown",
   "metadata": {
    "slideshow": {
     "slide_type": "subslide"
    }
   },
   "source": [
    "*Demostración*. \n",
    "* Si $G$ es $r$-regular, entonces hacemos que $H=G$. \n",
    "* Si $G$ no es un grafo $r$-regular. \n",
    "    * Supongamos que $G$ tiene orden $n$ y $V(G)=\\left\\{v_1, v_2, \\ldots, v_n\\right\\}$. \n",
    "    * Sea $G^{\\prime}$ otra copia de $G$ con $V\\left(G^{\\prime}\\right)=\\left\\{v_1^{\\prime}, v_2^{\\prime}, \\ldots, v_n^{\\prime}\\right\\}$, donde cada vértice $v_i^{\\prime}$ en $G^{\\prime}$ corresponde a $v_i$ en $G$ para $1 \\leq i \\leq n$. \n",
    "    * Ahora construimos un grafo $G_1$ a partir de $G$ y $G^{\\prime}$ sumando las aristas $v_i v_i^{\\prime}$ para todos los vértices $v_i(1 \\leq i \\leq n)$ de $G$ para los cuales deg $v_i \\leq r$. \n",
    "    * Entonces $G$ es un subgrafo inducido de $G_1$ y $\\delta\\left(G_1\\right)=\\delta(G)+1$. \n",
    "    * Si $G_1$ es $r$-regular, entonces hacemos $H=G_1$. \n",
    "    * Si no, entonces continuamos este procedimiento hasta que llegamos a un grafo $r$-regular $G_k$, donde $k=r-\\delta(G)$. El grafo $G_k$ es el grafo deseado $H$."
   ]
  },
  {
   "cell_type": "markdown",
   "metadata": {
    "slideshow": {
     "slide_type": "subslide"
    }
   },
   "source": [
    "Para ilustrar la construcción descrita en el Teorema 2.2.2, considere el grafo $G$ de la Figura 2.2.4, donde $\\Delta(G)=4$ y $\\delta(G)=2$. \n",
    "\n",
    "* Buscamos un grafo 4-regular $H$ que contenga a $G$ como subgrafo inducido. \n",
    "\n",
    "    * Primero, construimos un grafo $G_1$ a partir de dos copias de $G$ uniendo todos los pares de vértices correspondientes en estas copias cuyos grados sean menores que 4. \n",
    "\n",
    "    * Entonces $\\Delta\\left(G_1\\right)=4, \\delta\\left(G_1\\right)=3$ y $G$ es un subgrafo inducido de $G_1$. Luego construimos $H$ a partir de dos copias de $G_1$ uniendo todos los pares de vértices correspondientes en estas copias cuyos grados sean 3 . \n",
    "\n",
    "    * Entonces $H$ es 4-regular y $G$ es un subgrafo inducido de $H$."
   ]
  },
  {
   "cell_type": "markdown",
   "metadata": {
    "slideshow": {
     "slide_type": "subslide"
    }
   },
   "source": [
    "<center>\n",
    "<img src='./fig/4-regular.png'>\n",
    "\n",
    "Figura 2.2.4. Un grafo 4-regular que contiene a $G$ como un subgrafo inducido."
   ]
  },
  {
   "cell_type": "markdown",
   "metadata": {
    "slideshow": {
     "slide_type": "slide"
    }
   },
   "source": [
    "## 2.3. Secuencias de grados"
   ]
  },
  {
   "cell_type": "markdown",
   "metadata": {
    "slideshow": {
     "slide_type": "slide"
    }
   },
   "source": [
    "## 2.4. Excursiones"
   ]
  },
  {
   "cell_type": "markdown",
   "metadata": {
    "slideshow": {
     "slide_type": "slide"
    }
   },
   "source": [
    "## 2.5. Exploraciones"
   ]
  },
  {
   "cell_type": "markdown",
   "metadata": {
    "slideshow": {
     "slide_type": "slide"
    }
   },
   "source": [
    "# Fin de la Unidad 2"
   ]
  },
  {
   "cell_type": "markdown",
   "metadata": {},
   "source": []
  }
 ],
 "metadata": {
  "kernelspec": {
   "display_name": "base",
   "language": "python",
   "name": "python3"
  },
  "language_info": {
   "name": "python",
   "version": "3.9.18"
  }
 },
 "nbformat": 4,
 "nbformat_minor": 2
}
