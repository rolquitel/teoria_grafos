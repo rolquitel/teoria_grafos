{
 "cells": [
  {
   "cell_type": "markdown",
   "metadata": {},
   "source": [
    "# Teoría de grafos\n",
    "\n",
    "1. Conceptos básicos\n",
    "2. Algoritmos\n",
    "3. Caminos mínimos\n",
    "4. Árboles de expansión\n",
    "5. Flujos\n",
    "6. Conectividad y búsquedas\n",
    "7. Coloreado de grafos\n",
    "8. Emparejamientos\n",
    "9. Emparejamientos con pesos\n",
    "10. Problema del agente viajero"
   ]
  },
  {
   "cell_type": "markdown",
   "metadata": {},
   "source": [
    "## 1. Teoría básica de grafos\n",
    "\n",
    "### 1.1 Grafos, subgrafos y factores\n",
    "### 1.2 Caminos, ciclos, conectividad, árboles\n",
    "### 1.3 Paseos de Euler\n",
    "### 1.4 Ciclos hamiltonianos\n",
    "### 1.5 Grafos planares\n",
    "### 1.6 Dígrafos\n"
   ]
  },
  {
   "cell_type": "markdown",
   "metadata": {},
   "source": [
    "## 2 Algoritmos y complejidad\n",
    "### 2.1 Algoritmos \n",
    "### 2.2 Representación de grafos \n",
    "### 2.3 El algoritmo de Hierholzer\n",
    "### 2.4 Cómo escribir algoritmos\n",
    "### 2.5 La complejidad de los algoritmos\n",
    "### 2.6 Grafos acíclicos dirigidos.\n",
    "### 2.7 Problemas NP-completos\n",
    "### 2.8 HC es NP-completo."
   ]
  },
  {
   "cell_type": "markdown",
   "metadata": {},
   "source": [
    "## 3 Caminos más cortos\n",
    "### 3.1 Caminos más cortos $\\qquad$\n",
    "### 3.2 Espacios métricos finitos $\\qquad$\n",
    "### 3.3 Búsqueda en amplitud y grafos bipartitos\n",
    "### 3.4 Ecuaciones de Bellman y dígrafos acíclicos\n",
    "### 3.5 Una aplicación: Planificación de proyectos\n",
    "### 3.6 El algoritmo de Dijkstra $\\qquad$\n",
    "### 3.7 Una aplicación: Planificación de trenes $\\qquad$\n",
    "### 3.8 El algoritmo de Floyd y Warshall\n",
    "### 3.9 Ciclos de longitud negativa\n",
    "### 3.10 Álgebras de trayectorias"
   ]
  },
  {
   "cell_type": "markdown",
   "metadata": {},
   "source": [
    "## 4 Árboles de expansión \n",
    "### 4.1 Árboles y bosques\n",
    "### 4.2 Matrices de incidencia.\n",
    "### 4.3 Árboles de expansión mínima\n",
    "### 4.4 Los algoritmos de Prim, Kruskal y Boruvka\n",
    "### 4.5 Árboles de expansión máxima\n",
    "### 4.6 Árboles de Steiner\n",
    "### 4.7 Árboles de expansión con restricciones\n",
    "### 4.8 Arborescencias y recorridos de Euler dirigidos."
   ]
  }
 ],
 "metadata": {
  "kernelspec": {
   "display_name": "base",
   "language": "python",
   "name": "python3"
  },
  "language_info": {
   "name": "python",
   "version": "3.9.18"
  }
 },
 "nbformat": 4,
 "nbformat_minor": 2
}
