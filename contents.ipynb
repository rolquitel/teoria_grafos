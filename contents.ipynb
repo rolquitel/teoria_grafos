{
 "cells": [
  {
   "cell_type": "markdown",
   "metadata": {},
   "source": [
    "# Teoría de grafos\n",
    "\n"
   ]
  },
  {
   "cell_type": "markdown",
   "metadata": {},
   "source": [
    "## 1. Teoría básica de grafos\n",
    "\n",
    "### 1.1 Grafos, subgrafos y factores\n",
    "### 1.2 Caminos, ciclos, conectividad, árboles\n",
    "### 1.3 Paseos de Euler\n",
    "### 1.4 Ciclos hamiltonianos\n",
    "### 1.5 Grafos planares\n",
    "### 1.6 Dígrafos\n"
   ]
  },
  {
   "cell_type": "markdown",
   "metadata": {},
   "source": [
    "## 2 Algoritmos y complejidad\n",
    "### 2.1 Algoritmos \n",
    "### 2.2 Representación de grafos \n",
    "### 2.3 El algoritmo de Hierholzer\n",
    "### 2.4 Cómo escribir algoritmos\n",
    "### 2.5 La complejidad de los algoritmos\n",
    "### 2.6 Grafos acíclicos dirigidos.\n",
    "### 2.7 Problemas NP-completos\n",
    "### 2.8 HC es NP-completo."
   ]
  },
  {
   "cell_type": "markdown",
   "metadata": {},
   "source": [
    "## 3 Caminos más cortos\n",
    "### 3.1 Caminos más cortos $\\qquad$\n",
    "### 3.2 Espacios métricos finitos $\\qquad$\n",
    "### 3.3 Búsqueda en amplitud y grafos bipartitos\n",
    "### 3.4 Ecuaciones de Bellman y dígrafos acíclicos\n",
    "### 3.5 Una aplicación: Planificación de proyectos\n",
    "### 3.6 El algoritmo de Dijkstra $\\qquad$\n",
    "### 3.7 Una aplicación: Planificación de trenes $\\qquad$\n",
    "### 3.8 El algoritmo de Floyd y Warshall\n",
    "### 3.9 Ciclos de longitud negativa\n",
    "### 3.10 Álgebras de trayectorias"
   ]
  },
  {
   "cell_type": "markdown",
   "metadata": {},
   "source": [
    "## 4 Árboles de expansión \n",
    "### 4.1 Árboles y bosques\n",
    "### 4.2 Matrices de incidencia.\n",
    "### 4.3 Árboles de expansión mínima\n",
    "### 4.4 Los algoritmos de Prim, Kruskal y Boruvka\n",
    "### 4.5 Árboles de expansión máxima\n",
    "### 4.6 Árboles de Steiner\n",
    "### 4.7 Árboles de expansión con restricciones\n",
    "### 4.8 Arborescencias y recorridos de Euler dirigidos."
   ]
  },
  {
   "cell_type": "markdown",
   "metadata": {},
   "source": [
    "## 5 El algoritmo voraz\n",
    "### 5.1 El algoritmo voraz y los matroides\n",
    "### 5.2 Caracterizaciones de los matroides\n",
    "### 5.3 Dualidad de matroides\n",
    "### 5.4 El algoritmo voraz como método de aproximación\n",
    "### 5.5 ​​Minimización en sistemas de independencia\n",
    "### 5.6 Sistemas de conjuntos accesibles."
   ]
  },
  {
   "cell_type": "markdown",
   "metadata": {},
   "source": [
    "## 6 Flujos \n",
    "### 6.1 Los teoremas de Ford y Fulkerson\n",
    "### 6.2 El algoritmo de Edmonds y Karp\n",
    "### 6.3 Redes auxiliares y fases\n",
    "### 6.4 Construcción de flujos bloqueantes \n",
    "### 6.5 Flujos cero-uno \n",
    "### 6.6 El algoritmo de Goldberg y Tarjan"
   ]
  },
  {
   "cell_type": "markdown",
   "metadata": {},
   "source": [
    "## 7 Aplicaciones combinatorias \n",
    "### 7.1 Caminos disjuntos: Teorema de Menger\n",
    "### 7.2 Emparejamientos: Teorema de König\n",
    "### 7.3 Transversales parciales: Teorema del matrimonio\n",
    "### 7.4 Combinatoria de matrices...\n",
    "### 7.5 Disecciones: Teorema de Dilworth\n",
    "### 7.6 Paralelismos: Teorema de Baranyai\n",
    "### 7.7 Oferta y demanda: Teorema de Gale-Ryser "
   ]
  },
  {
   "cell_type": "markdown",
   "metadata": {},
   "source": [
    "## 8 Conectividad y búsqueda en profundidad\n",
    "### 8.1 Grafos k-conexos\n",
    "### 8.2 Búsqueda en profundidad \n",
    "### 8.3 Grafos 2-conexos\n",
    "### 8.4 Búsqueda en profundidad para dígrafos \n",
    "### 8.5 Dígrafos fuertemente conexos \n",
    "### 8.6 Conectividad de aristas"
   ]
  },
  {
   "cell_type": "markdown",
   "metadata": {},
   "source": [
    "## 9 Coloraciones\n",
    "### 9.1 Gráficos de comparabilidad y gráficos de intervalo\n",
    "### 9.2 Coloraciones de vértices\n",
    "### 9.3 Coloraciones de aristas\n",
    "### 9.4 Grafos de Cayley\n",
    "### 9.5 El teorema de los cinco colores "
   ]
  },
  {
   "cell_type": "markdown",
   "metadata": {},
   "source": []
  }
 ],
 "metadata": {
  "kernelspec": {
   "display_name": "base",
   "language": "python",
   "name": "python3"
  },
  "language_info": {
   "name": "python",
   "version": "3.9.18"
  }
 },
 "nbformat": 4,
 "nbformat_minor": 2
}
